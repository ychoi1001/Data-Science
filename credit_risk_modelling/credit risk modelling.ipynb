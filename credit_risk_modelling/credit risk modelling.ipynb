{
 "cells": [
  {
   "cell_type": "markdown",
   "id": "f98e4349",
   "metadata": {},
   "source": [
    "# Explore Data"
   ]
  },
  {
   "cell_type": "code",
   "execution_count": null,
   "id": "c139501a",
   "metadata": {},
   "outputs": [],
   "source": [
    "# Import libraries\n",
    "import pandas as pd\n",
    "import numpy as np"
   ]
  },
  {
   "cell_type": "code",
   "execution_count": 49,
   "id": "a2727a3c",
   "metadata": {},
   "outputs": [
    {
     "name": "stderr",
     "output_type": "stream",
     "text": [
      "/Users/oliviachoi/opt/anaconda3/lib/python3.9/site-packages/IPython/core/interactiveshell.py:3444: DtypeWarning: Columns (20) have mixed types.Specify dtype option on import or set low_memory=False.\n",
      "  exec(code_obj, self.user_global_ns, self.user_ns)\n"
     ]
    }
   ],
   "source": [
    "# Load the data file\n",
    "df_backup = pd.read_csv('loan_data_2007_2014.csv')"
   ]
  },
  {
   "cell_type": "code",
   "execution_count": 50,
   "id": "a7ce6eb6",
   "metadata": {},
   "outputs": [],
   "source": [
    "# Copy the data\n",
    "df = df_backup.copy()"
   ]
  },
  {
   "cell_type": "code",
   "execution_count": 51,
   "id": "02ea7c9d",
   "metadata": {},
   "outputs": [
    {
     "data": {
      "text/html": [
       "<div>\n",
       "<style scoped>\n",
       "    .dataframe tbody tr th:only-of-type {\n",
       "        vertical-align: middle;\n",
       "    }\n",
       "\n",
       "    .dataframe tbody tr th {\n",
       "        vertical-align: top;\n",
       "    }\n",
       "\n",
       "    .dataframe thead th {\n",
       "        text-align: right;\n",
       "    }\n",
       "</style>\n",
       "<table border=\"1\" class=\"dataframe\">\n",
       "  <thead>\n",
       "    <tr style=\"text-align: right;\">\n",
       "      <th></th>\n",
       "      <th>Unnamed: 0</th>\n",
       "      <th>id</th>\n",
       "      <th>member_id</th>\n",
       "      <th>loan_amnt</th>\n",
       "      <th>funded_amnt</th>\n",
       "      <th>funded_amnt_inv</th>\n",
       "      <th>term</th>\n",
       "      <th>int_rate</th>\n",
       "      <th>installment</th>\n",
       "      <th>grade</th>\n",
       "      <th>...</th>\n",
       "      <th>total_bal_il</th>\n",
       "      <th>il_util</th>\n",
       "      <th>open_rv_12m</th>\n",
       "      <th>open_rv_24m</th>\n",
       "      <th>max_bal_bc</th>\n",
       "      <th>all_util</th>\n",
       "      <th>total_rev_hi_lim</th>\n",
       "      <th>inq_fi</th>\n",
       "      <th>total_cu_tl</th>\n",
       "      <th>inq_last_12m</th>\n",
       "    </tr>\n",
       "  </thead>\n",
       "  <tbody>\n",
       "    <tr>\n",
       "      <th>0</th>\n",
       "      <td>0</td>\n",
       "      <td>1077501</td>\n",
       "      <td>1296599</td>\n",
       "      <td>5000</td>\n",
       "      <td>5000</td>\n",
       "      <td>4975.0</td>\n",
       "      <td>36 months</td>\n",
       "      <td>10.65</td>\n",
       "      <td>162.87</td>\n",
       "      <td>B</td>\n",
       "      <td>...</td>\n",
       "      <td>NaN</td>\n",
       "      <td>NaN</td>\n",
       "      <td>NaN</td>\n",
       "      <td>NaN</td>\n",
       "      <td>NaN</td>\n",
       "      <td>NaN</td>\n",
       "      <td>NaN</td>\n",
       "      <td>NaN</td>\n",
       "      <td>NaN</td>\n",
       "      <td>NaN</td>\n",
       "    </tr>\n",
       "    <tr>\n",
       "      <th>1</th>\n",
       "      <td>1</td>\n",
       "      <td>1077430</td>\n",
       "      <td>1314167</td>\n",
       "      <td>2500</td>\n",
       "      <td>2500</td>\n",
       "      <td>2500.0</td>\n",
       "      <td>60 months</td>\n",
       "      <td>15.27</td>\n",
       "      <td>59.83</td>\n",
       "      <td>C</td>\n",
       "      <td>...</td>\n",
       "      <td>NaN</td>\n",
       "      <td>NaN</td>\n",
       "      <td>NaN</td>\n",
       "      <td>NaN</td>\n",
       "      <td>NaN</td>\n",
       "      <td>NaN</td>\n",
       "      <td>NaN</td>\n",
       "      <td>NaN</td>\n",
       "      <td>NaN</td>\n",
       "      <td>NaN</td>\n",
       "    </tr>\n",
       "    <tr>\n",
       "      <th>2</th>\n",
       "      <td>2</td>\n",
       "      <td>1077175</td>\n",
       "      <td>1313524</td>\n",
       "      <td>2400</td>\n",
       "      <td>2400</td>\n",
       "      <td>2400.0</td>\n",
       "      <td>36 months</td>\n",
       "      <td>15.96</td>\n",
       "      <td>84.33</td>\n",
       "      <td>C</td>\n",
       "      <td>...</td>\n",
       "      <td>NaN</td>\n",
       "      <td>NaN</td>\n",
       "      <td>NaN</td>\n",
       "      <td>NaN</td>\n",
       "      <td>NaN</td>\n",
       "      <td>NaN</td>\n",
       "      <td>NaN</td>\n",
       "      <td>NaN</td>\n",
       "      <td>NaN</td>\n",
       "      <td>NaN</td>\n",
       "    </tr>\n",
       "    <tr>\n",
       "      <th>3</th>\n",
       "      <td>3</td>\n",
       "      <td>1076863</td>\n",
       "      <td>1277178</td>\n",
       "      <td>10000</td>\n",
       "      <td>10000</td>\n",
       "      <td>10000.0</td>\n",
       "      <td>36 months</td>\n",
       "      <td>13.49</td>\n",
       "      <td>339.31</td>\n",
       "      <td>C</td>\n",
       "      <td>...</td>\n",
       "      <td>NaN</td>\n",
       "      <td>NaN</td>\n",
       "      <td>NaN</td>\n",
       "      <td>NaN</td>\n",
       "      <td>NaN</td>\n",
       "      <td>NaN</td>\n",
       "      <td>NaN</td>\n",
       "      <td>NaN</td>\n",
       "      <td>NaN</td>\n",
       "      <td>NaN</td>\n",
       "    </tr>\n",
       "    <tr>\n",
       "      <th>4</th>\n",
       "      <td>4</td>\n",
       "      <td>1075358</td>\n",
       "      <td>1311748</td>\n",
       "      <td>3000</td>\n",
       "      <td>3000</td>\n",
       "      <td>3000.0</td>\n",
       "      <td>60 months</td>\n",
       "      <td>12.69</td>\n",
       "      <td>67.79</td>\n",
       "      <td>B</td>\n",
       "      <td>...</td>\n",
       "      <td>NaN</td>\n",
       "      <td>NaN</td>\n",
       "      <td>NaN</td>\n",
       "      <td>NaN</td>\n",
       "      <td>NaN</td>\n",
       "      <td>NaN</td>\n",
       "      <td>NaN</td>\n",
       "      <td>NaN</td>\n",
       "      <td>NaN</td>\n",
       "      <td>NaN</td>\n",
       "    </tr>\n",
       "  </tbody>\n",
       "</table>\n",
       "<p>5 rows × 75 columns</p>\n",
       "</div>"
      ],
      "text/plain": [
       "   Unnamed: 0       id  member_id  loan_amnt  funded_amnt  funded_amnt_inv  \\\n",
       "0           0  1077501    1296599       5000         5000           4975.0   \n",
       "1           1  1077430    1314167       2500         2500           2500.0   \n",
       "2           2  1077175    1313524       2400         2400           2400.0   \n",
       "3           3  1076863    1277178      10000        10000          10000.0   \n",
       "4           4  1075358    1311748       3000         3000           3000.0   \n",
       "\n",
       "         term  int_rate  installment grade  ... total_bal_il il_util  \\\n",
       "0   36 months     10.65       162.87     B  ...          NaN     NaN   \n",
       "1   60 months     15.27        59.83     C  ...          NaN     NaN   \n",
       "2   36 months     15.96        84.33     C  ...          NaN     NaN   \n",
       "3   36 months     13.49       339.31     C  ...          NaN     NaN   \n",
       "4   60 months     12.69        67.79     B  ...          NaN     NaN   \n",
       "\n",
       "  open_rv_12m open_rv_24m  max_bal_bc all_util total_rev_hi_lim inq_fi  \\\n",
       "0         NaN         NaN         NaN      NaN              NaN    NaN   \n",
       "1         NaN         NaN         NaN      NaN              NaN    NaN   \n",
       "2         NaN         NaN         NaN      NaN              NaN    NaN   \n",
       "3         NaN         NaN         NaN      NaN              NaN    NaN   \n",
       "4         NaN         NaN         NaN      NaN              NaN    NaN   \n",
       "\n",
       "  total_cu_tl inq_last_12m  \n",
       "0         NaN          NaN  \n",
       "1         NaN          NaN  \n",
       "2         NaN          NaN  \n",
       "3         NaN          NaN  \n",
       "4         NaN          NaN  \n",
       "\n",
       "[5 rows x 75 columns]"
      ]
     },
     "execution_count": 51,
     "metadata": {},
     "output_type": "execute_result"
    }
   ],
   "source": [
    "# Display first 5 records\n",
    "df.head()"
   ]
  },
  {
   "cell_type": "code",
   "execution_count": 52,
   "id": "12737622",
   "metadata": {},
   "outputs": [
    {
     "data": {
      "text/plain": [
       "array(['Unnamed: 0', 'id', 'member_id', 'loan_amnt', 'funded_amnt',\n",
       "       'funded_amnt_inv', 'term', 'int_rate', 'installment', 'grade',\n",
       "       'sub_grade', 'emp_title', 'emp_length', 'home_ownership',\n",
       "       'annual_inc', 'verification_status', 'issue_d', 'loan_status',\n",
       "       'pymnt_plan', 'url', 'desc', 'purpose', 'title', 'zip_code',\n",
       "       'addr_state', 'dti', 'delinq_2yrs', 'earliest_cr_line',\n",
       "       'inq_last_6mths', 'mths_since_last_delinq',\n",
       "       'mths_since_last_record', 'open_acc', 'pub_rec', 'revol_bal',\n",
       "       'revol_util', 'total_acc', 'initial_list_status', 'out_prncp',\n",
       "       'out_prncp_inv', 'total_pymnt', 'total_pymnt_inv',\n",
       "       'total_rec_prncp', 'total_rec_int', 'total_rec_late_fee',\n",
       "       'recoveries', 'collection_recovery_fee', 'last_pymnt_d',\n",
       "       'last_pymnt_amnt', 'next_pymnt_d', 'last_credit_pull_d',\n",
       "       'collections_12_mths_ex_med', 'mths_since_last_major_derog',\n",
       "       'policy_code', 'application_type', 'annual_inc_joint', 'dti_joint',\n",
       "       'verification_status_joint', 'acc_now_delinq', 'tot_coll_amt',\n",
       "       'tot_cur_bal', 'open_acc_6m', 'open_il_6m', 'open_il_12m',\n",
       "       'open_il_24m', 'mths_since_rcnt_il', 'total_bal_il', 'il_util',\n",
       "       'open_rv_12m', 'open_rv_24m', 'max_bal_bc', 'all_util',\n",
       "       'total_rev_hi_lim', 'inq_fi', 'total_cu_tl', 'inq_last_12m'],\n",
       "      dtype=object)"
      ]
     },
     "execution_count": 52,
     "metadata": {},
     "output_type": "execute_result"
    }
   ],
   "source": [
    "# Display columns name\n",
    "df.columns.values"
   ]
  },
  {
   "cell_type": "code",
   "execution_count": 53,
   "id": "12b50135",
   "metadata": {},
   "outputs": [],
   "source": [
    "# Drop unnecessary column\n",
    "df = df.drop('Unnamed: 0', axis=1)"
   ]
  },
  {
   "cell_type": "code",
   "execution_count": 54,
   "id": "364c728d",
   "metadata": {},
   "outputs": [
    {
     "name": "stdout",
     "output_type": "stream",
     "text": [
      "<class 'pandas.core.frame.DataFrame'>\n",
      "RangeIndex: 466285 entries, 0 to 466284\n",
      "Data columns (total 74 columns):\n",
      " #   Column                       Non-Null Count   Dtype  \n",
      "---  ------                       --------------   -----  \n",
      " 0   id                           466285 non-null  int64  \n",
      " 1   member_id                    466285 non-null  int64  \n",
      " 2   loan_amnt                    466285 non-null  int64  \n",
      " 3   funded_amnt                  466285 non-null  int64  \n",
      " 4   funded_amnt_inv              466285 non-null  float64\n",
      " 5   term                         466285 non-null  object \n",
      " 6   int_rate                     466285 non-null  float64\n",
      " 7   installment                  466285 non-null  float64\n",
      " 8   grade                        466285 non-null  object \n",
      " 9   sub_grade                    466285 non-null  object \n",
      " 10  emp_title                    438697 non-null  object \n",
      " 11  emp_length                   445277 non-null  object \n",
      " 12  home_ownership               466285 non-null  object \n",
      " 13  annual_inc                   466281 non-null  float64\n",
      " 14  verification_status          466285 non-null  object \n",
      " 15  issue_d                      466285 non-null  object \n",
      " 16  loan_status                  466285 non-null  object \n",
      " 17  pymnt_plan                   466285 non-null  object \n",
      " 18  url                          466285 non-null  object \n",
      " 19  desc                         125983 non-null  object \n",
      " 20  purpose                      466285 non-null  object \n",
      " 21  title                        466265 non-null  object \n",
      " 22  zip_code                     466285 non-null  object \n",
      " 23  addr_state                   466285 non-null  object \n",
      " 24  dti                          466285 non-null  float64\n",
      " 25  delinq_2yrs                  466256 non-null  float64\n",
      " 26  earliest_cr_line             466256 non-null  object \n",
      " 27  inq_last_6mths               466256 non-null  float64\n",
      " 28  mths_since_last_delinq       215934 non-null  float64\n",
      " 29  mths_since_last_record       62638 non-null   float64\n",
      " 30  open_acc                     466256 non-null  float64\n",
      " 31  pub_rec                      466256 non-null  float64\n",
      " 32  revol_bal                    466285 non-null  int64  \n",
      " 33  revol_util                   465945 non-null  float64\n",
      " 34  total_acc                    466256 non-null  float64\n",
      " 35  initial_list_status          466285 non-null  object \n",
      " 36  out_prncp                    466285 non-null  float64\n",
      " 37  out_prncp_inv                466285 non-null  float64\n",
      " 38  total_pymnt                  466285 non-null  float64\n",
      " 39  total_pymnt_inv              466285 non-null  float64\n",
      " 40  total_rec_prncp              466285 non-null  float64\n",
      " 41  total_rec_int                466285 non-null  float64\n",
      " 42  total_rec_late_fee           466285 non-null  float64\n",
      " 43  recoveries                   466285 non-null  float64\n",
      " 44  collection_recovery_fee      466285 non-null  float64\n",
      " 45  last_pymnt_d                 465909 non-null  object \n",
      " 46  last_pymnt_amnt              466285 non-null  float64\n",
      " 47  next_pymnt_d                 239071 non-null  object \n",
      " 48  last_credit_pull_d           466243 non-null  object \n",
      " 49  collections_12_mths_ex_med   466140 non-null  float64\n",
      " 50  mths_since_last_major_derog  98974 non-null   float64\n",
      " 51  policy_code                  466285 non-null  int64  \n",
      " 52  application_type             466285 non-null  object \n",
      " 53  annual_inc_joint             0 non-null       float64\n",
      " 54  dti_joint                    0 non-null       float64\n",
      " 55  verification_status_joint    0 non-null       float64\n",
      " 56  acc_now_delinq               466256 non-null  float64\n",
      " 57  tot_coll_amt                 396009 non-null  float64\n",
      " 58  tot_cur_bal                  396009 non-null  float64\n",
      " 59  open_acc_6m                  0 non-null       float64\n",
      " 60  open_il_6m                   0 non-null       float64\n",
      " 61  open_il_12m                  0 non-null       float64\n",
      " 62  open_il_24m                  0 non-null       float64\n",
      " 63  mths_since_rcnt_il           0 non-null       float64\n",
      " 64  total_bal_il                 0 non-null       float64\n",
      " 65  il_util                      0 non-null       float64\n",
      " 66  open_rv_12m                  0 non-null       float64\n",
      " 67  open_rv_24m                  0 non-null       float64\n",
      " 68  max_bal_bc                   0 non-null       float64\n",
      " 69  all_util                     0 non-null       float64\n",
      " 70  total_rev_hi_lim             396009 non-null  float64\n",
      " 71  inq_fi                       0 non-null       float64\n",
      " 72  total_cu_tl                  0 non-null       float64\n",
      " 73  inq_last_12m                 0 non-null       float64\n",
      "dtypes: float64(46), int64(6), object(22)\n",
      "memory usage: 263.3+ MB\n"
     ]
    }
   ],
   "source": [
    "# Display data type\n",
    "df.info()"
   ]
  },
  {
   "cell_type": "markdown",
   "id": "af868393",
   "metadata": {},
   "source": [
    "# Preprocessing"
   ]
  },
  {
   "cell_type": "code",
   "execution_count": 55,
   "id": "5848d53a",
   "metadata": {},
   "outputs": [
    {
     "data": {
      "text/plain": [
       "array(['10+ years', '< 1 year', '1 year', '3 years', '8 years', '9 years',\n",
       "       '4 years', '5 years', '6 years', '2 years', '7 years', nan],\n",
       "      dtype=object)"
      ]
     },
     "execution_count": 55,
     "metadata": {},
     "output_type": "execute_result"
    }
   ],
   "source": [
    "# Object data type\n",
    "# Display unique values in the 'emp_length' column to understand its current format\n",
    "df['emp_length'].unique()"
   ]
  },
  {
   "cell_type": "code",
   "execution_count": 56,
   "id": "70270305",
   "metadata": {},
   "outputs": [
    {
     "name": "stderr",
     "output_type": "stream",
     "text": [
      "/var/folders/7l/hzhbdmks3snf1lxq26d5wcbh0000gn/T/ipykernel_6993/155661622.py:2: FutureWarning: The default value of regex will change from True to False in a future version.\n",
      "  df['emp_length_int'] = df['emp_length'].str.replace('\\+ years', '')\n"
     ]
    }
   ],
   "source": [
    "# Convert Object data to numeric\n",
    "# Remove '+ years' from the 'emp_length' values\n",
    "df['emp_length_int'] = df['emp_length'].str.replace('\\+ years', '')"
   ]
  },
  {
   "cell_type": "code",
   "execution_count": 57,
   "id": "1e5e6f81",
   "metadata": {},
   "outputs": [
    {
     "data": {
      "text/plain": [
       "array(['10', '< 1 year', '1 year', '3 years', '8 years', '9 years',\n",
       "       '4 years', '5 years', '6 years', '2 years', '7 years', nan],\n",
       "      dtype=object)"
      ]
     },
     "execution_count": 57,
     "metadata": {},
     "output_type": "execute_result"
    }
   ],
   "source": [
    "# Display unique values after the first replacement to check intermediate results\n",
    "df['emp_length_int'].unique()"
   ]
  },
  {
   "cell_type": "code",
   "execution_count": 58,
   "id": "49ca428b",
   "metadata": {},
   "outputs": [],
   "source": [
    "# Replace '< 1 year' with '0'\n",
    "df['emp_length_int'] = df['emp_length_int'].str.replace('< 1 year', str(0))\n",
    "\n",
    "# Replace 'n/a' with '0'\n",
    "df['emp_length_int'] = df['emp_length_int'].str.replace('n/a', str(0))\n",
    "\n",
    "# Remove ' years' from the values\n",
    "df['emp_length_int'] = df['emp_length_int'].str.replace(' years', '')\n",
    "\n",
    "# Remove ' year' from the values\n",
    "df['emp_length_int'] = df['emp_length_int'].str.replace(' year', '')"
   ]
  },
  {
   "cell_type": "code",
   "execution_count": 59,
   "id": "98054e50",
   "metadata": {},
   "outputs": [
    {
     "data": {
      "text/plain": [
       "str"
      ]
     },
     "execution_count": 59,
     "metadata": {},
     "output_type": "execute_result"
    }
   ],
   "source": [
    "# Check the data type of the second element in the 'emp_length_int' column\n",
    "type(df['emp_length_int'][1])"
   ]
  },
  {
   "cell_type": "code",
   "execution_count": 60,
   "id": "a5935684",
   "metadata": {},
   "outputs": [
    {
     "data": {
      "text/plain": [
       "array(['10', '0', '1', '3', '8', '9', '4', '5', '6', '2', '7', nan],\n",
       "      dtype=object)"
      ]
     },
     "execution_count": 60,
     "metadata": {},
     "output_type": "execute_result"
    }
   ],
   "source": [
    "# Display unique values in the 'emp_length_int' column to verify final format\n",
    "df['emp_length_int'].unique()"
   ]
  },
  {
   "cell_type": "code",
   "execution_count": 62,
   "id": "88e495fd",
   "metadata": {},
   "outputs": [],
   "source": [
    "# Convert the 'emp_length_int' column to numeric type (integers)\n",
    "df['emp_length_int'] = pd.to_numeric(df['emp_length_int'])"
   ]
  },
  {
   "cell_type": "code",
   "execution_count": 63,
   "id": "f5c995e7",
   "metadata": {},
   "outputs": [
    {
     "data": {
      "text/plain": [
       "array([10.,  0.,  1.,  3.,  8.,  9.,  4.,  5.,  6.,  2.,  7., nan])"
      ]
     },
     "execution_count": 63,
     "metadata": {},
     "output_type": "execute_result"
    }
   ],
   "source": [
    "# Display unique values in the 'emp_length_int' column after conversion to numeric\n",
    "df['emp_length_int'].unique()"
   ]
  },
  {
   "cell_type": "code",
   "execution_count": 65,
   "id": "a06c59ae",
   "metadata": {},
   "outputs": [
    {
     "data": {
      "text/plain": [
       "array([' 36 months', ' 60 months'], dtype=object)"
      ]
     },
     "execution_count": 65,
     "metadata": {},
     "output_type": "execute_result"
    }
   ],
   "source": [
    "# Do the same thing for 'term'\n",
    "df['term'].unique()"
   ]
  },
  {
   "cell_type": "code",
   "execution_count": 66,
   "id": "fd0665cd",
   "metadata": {},
   "outputs": [],
   "source": [
    "df['term_int'] = df['term'].str.replace(' months', '')\n",
    "df['term_int'] = df['term_int'].str.replace(' ', '')"
   ]
  },
  {
   "cell_type": "code",
   "execution_count": 67,
   "id": "47d70cf7",
   "metadata": {},
   "outputs": [
    {
     "data": {
      "text/plain": [
       "array(['36', '60'], dtype=object)"
      ]
     },
     "execution_count": 67,
     "metadata": {},
     "output_type": "execute_result"
    }
   ],
   "source": [
    "df['term_int'].unique()"
   ]
  },
  {
   "cell_type": "code",
   "execution_count": 68,
   "id": "04f95efb",
   "metadata": {},
   "outputs": [],
   "source": [
    "df['term_int'] = pd.to_numeric(df['term_int'])"
   ]
  },
  {
   "cell_type": "code",
   "execution_count": 70,
   "id": "ae63c454",
   "metadata": {},
   "outputs": [
    {
     "data": {
      "text/plain": [
       "array([36, 60])"
      ]
     },
     "execution_count": 70,
     "metadata": {},
     "output_type": "execute_result"
    }
   ],
   "source": [
    "df['term_int'].unique()"
   ]
  },
  {
   "cell_type": "code",
   "execution_count": 71,
   "id": "51fade61",
   "metadata": {},
   "outputs": [
    {
     "data": {
      "text/plain": [
       "0         36\n",
       "1         60\n",
       "2         36\n",
       "3         36\n",
       "4         60\n",
       "          ..\n",
       "466280    60\n",
       "466281    60\n",
       "466282    60\n",
       "466283    36\n",
       "466284    36\n",
       "Name: term_int, Length: 466285, dtype: int64"
      ]
     },
     "execution_count": 71,
     "metadata": {},
     "output_type": "execute_result"
    }
   ],
   "source": [
    "df['term_int']"
   ]
  },
  {
   "cell_type": "code",
   "execution_count": null,
   "id": "e01a1432",
   "metadata": {},
   "outputs": [],
   "source": []
  }
 ],
 "metadata": {
  "kernelspec": {
   "display_name": "Python 3 (ipykernel)",
   "language": "python",
   "name": "python3"
  },
  "language_info": {
   "codemirror_mode": {
    "name": "ipython",
    "version": 3
   },
   "file_extension": ".py",
   "mimetype": "text/x-python",
   "name": "python",
   "nbconvert_exporter": "python",
   "pygments_lexer": "ipython3",
   "version": "3.9.7"
  }
 },
 "nbformat": 4,
 "nbformat_minor": 5
}
