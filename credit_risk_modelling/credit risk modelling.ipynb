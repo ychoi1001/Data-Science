{
 "cells": [
  {
   "cell_type": "markdown",
   "id": "899ec158",
   "metadata": {},
   "source": [
    "# Credit Risk Modelling\n",
    "Credit risk refers to the risk of loss faced by financial institutions or lenders due to the possibility that a borrower may fail to repay their debt. It is one of the major risks in lending or investing, as lenders or investors may be exposed to the risk of not recovering the principal or receiving the interest payments.\n",
    "\n",
    "I will be conducting credit risk modeling using the Lending Club dataset. Lending Club is a US-based peer-to-peer (P2P) lending company that matches investors with borrowers. Investors invest their funds through Lending Club, and these funds are then loaned to borrowers. When the borrower repays the loan, the principal and interest are returned to the investor. This creates a mutually beneficial scenario, where borrowers typically receive lower interest rates, and investors can achieve higher returns.\n",
    "\n",
    "The dataset includes all available data for over 800,000 consumer loans issued by Lending Club between 2007 and 2015. It contains the current loan status (\"loan_status\") and the most recent payment information. Key features (variables) in the dataset include the number of financial inquiries (\"inq_fi\"), address information (\"addr_state\", \"zip_code\", etc.), and collection status (\"collections\"). The collections variable indicates whether the borrower has missed one or more payments and whether the team is actively trying to recover the funds."
   ]
  },
  {
   "cell_type": "markdown",
   "id": "69ec909a",
   "metadata": {},
   "source": [
    "In this project, we will calculate the Expected Loss (EL) to analyze credit risk. Expected Loss is derived by multiplying the following three key components: Probability of Default (PD), Loss Given Default (LGD), and Exposure at Default (EAD). Each of these factors will be modeled separately to provide a more accurate assessment of credit risk.\n",
    "\n",
    "- PD (Probability of Default) model: This model will predict the probability of default, focusing on assessing the likelihood that a borrower will default on a loan.\n",
    "- LGD (Loss Given Default) model: This model will estimate the actual loss rate in the event of a default, evaluating the extent of the loss when a loan defaults.\n",
    "- EAD (Exposure at Default) model: This model will forecast the outstanding loan amount at the time of default, measuring the total balance remaining when a default occurs.\n",
    "\n",
    "By modeling these components individually, we aim to provide a more detailed and precise evaluation of credit risk."
   ]
  },
  {
   "cell_type": "markdown",
   "id": "f98e4349",
   "metadata": {},
   "source": [
    "# Explore Data"
   ]
  },
  {
   "cell_type": "code",
   "execution_count": 1,
   "id": "c139501a",
   "metadata": {},
   "outputs": [],
   "source": [
    "# Import libraries\n",
    "import pandas as pd\n",
    "import numpy as np"
   ]
  },
  {
   "cell_type": "code",
   "execution_count": 2,
   "id": "a2727a3c",
   "metadata": {},
   "outputs": [
    {
     "name": "stderr",
     "output_type": "stream",
     "text": [
      "/Users/oliviachoi/opt/anaconda3/lib/python3.9/site-packages/IPython/core/interactiveshell.py:3444: DtypeWarning: Columns (20) have mixed types.Specify dtype option on import or set low_memory=False.\n",
      "  exec(code_obj, self.user_global_ns, self.user_ns)\n"
     ]
    }
   ],
   "source": [
    "# Load the data file\n",
    "df_backup = pd.read_csv('loan_data_2007_2014.csv')"
   ]
  },
  {
   "cell_type": "code",
   "execution_count": 3,
   "id": "a7ce6eb6",
   "metadata": {},
   "outputs": [],
   "source": [
    "# Copy the data\n",
    "df = df_backup.copy()"
   ]
  },
  {
   "cell_type": "code",
   "execution_count": 4,
   "id": "02ea7c9d",
   "metadata": {},
   "outputs": [
    {
     "data": {
      "text/html": [
       "<div>\n",
       "<style scoped>\n",
       "    .dataframe tbody tr th:only-of-type {\n",
       "        vertical-align: middle;\n",
       "    }\n",
       "\n",
       "    .dataframe tbody tr th {\n",
       "        vertical-align: top;\n",
       "    }\n",
       "\n",
       "    .dataframe thead th {\n",
       "        text-align: right;\n",
       "    }\n",
       "</style>\n",
       "<table border=\"1\" class=\"dataframe\">\n",
       "  <thead>\n",
       "    <tr style=\"text-align: right;\">\n",
       "      <th></th>\n",
       "      <th>Unnamed: 0</th>\n",
       "      <th>id</th>\n",
       "      <th>member_id</th>\n",
       "      <th>loan_amnt</th>\n",
       "      <th>funded_amnt</th>\n",
       "      <th>funded_amnt_inv</th>\n",
       "      <th>term</th>\n",
       "      <th>int_rate</th>\n",
       "      <th>installment</th>\n",
       "      <th>grade</th>\n",
       "      <th>...</th>\n",
       "      <th>total_bal_il</th>\n",
       "      <th>il_util</th>\n",
       "      <th>open_rv_12m</th>\n",
       "      <th>open_rv_24m</th>\n",
       "      <th>max_bal_bc</th>\n",
       "      <th>all_util</th>\n",
       "      <th>total_rev_hi_lim</th>\n",
       "      <th>inq_fi</th>\n",
       "      <th>total_cu_tl</th>\n",
       "      <th>inq_last_12m</th>\n",
       "    </tr>\n",
       "  </thead>\n",
       "  <tbody>\n",
       "    <tr>\n",
       "      <th>0</th>\n",
       "      <td>0</td>\n",
       "      <td>1077501</td>\n",
       "      <td>1296599</td>\n",
       "      <td>5000</td>\n",
       "      <td>5000</td>\n",
       "      <td>4975.0</td>\n",
       "      <td>36 months</td>\n",
       "      <td>10.65</td>\n",
       "      <td>162.87</td>\n",
       "      <td>B</td>\n",
       "      <td>...</td>\n",
       "      <td>NaN</td>\n",
       "      <td>NaN</td>\n",
       "      <td>NaN</td>\n",
       "      <td>NaN</td>\n",
       "      <td>NaN</td>\n",
       "      <td>NaN</td>\n",
       "      <td>NaN</td>\n",
       "      <td>NaN</td>\n",
       "      <td>NaN</td>\n",
       "      <td>NaN</td>\n",
       "    </tr>\n",
       "    <tr>\n",
       "      <th>1</th>\n",
       "      <td>1</td>\n",
       "      <td>1077430</td>\n",
       "      <td>1314167</td>\n",
       "      <td>2500</td>\n",
       "      <td>2500</td>\n",
       "      <td>2500.0</td>\n",
       "      <td>60 months</td>\n",
       "      <td>15.27</td>\n",
       "      <td>59.83</td>\n",
       "      <td>C</td>\n",
       "      <td>...</td>\n",
       "      <td>NaN</td>\n",
       "      <td>NaN</td>\n",
       "      <td>NaN</td>\n",
       "      <td>NaN</td>\n",
       "      <td>NaN</td>\n",
       "      <td>NaN</td>\n",
       "      <td>NaN</td>\n",
       "      <td>NaN</td>\n",
       "      <td>NaN</td>\n",
       "      <td>NaN</td>\n",
       "    </tr>\n",
       "    <tr>\n",
       "      <th>2</th>\n",
       "      <td>2</td>\n",
       "      <td>1077175</td>\n",
       "      <td>1313524</td>\n",
       "      <td>2400</td>\n",
       "      <td>2400</td>\n",
       "      <td>2400.0</td>\n",
       "      <td>36 months</td>\n",
       "      <td>15.96</td>\n",
       "      <td>84.33</td>\n",
       "      <td>C</td>\n",
       "      <td>...</td>\n",
       "      <td>NaN</td>\n",
       "      <td>NaN</td>\n",
       "      <td>NaN</td>\n",
       "      <td>NaN</td>\n",
       "      <td>NaN</td>\n",
       "      <td>NaN</td>\n",
       "      <td>NaN</td>\n",
       "      <td>NaN</td>\n",
       "      <td>NaN</td>\n",
       "      <td>NaN</td>\n",
       "    </tr>\n",
       "    <tr>\n",
       "      <th>3</th>\n",
       "      <td>3</td>\n",
       "      <td>1076863</td>\n",
       "      <td>1277178</td>\n",
       "      <td>10000</td>\n",
       "      <td>10000</td>\n",
       "      <td>10000.0</td>\n",
       "      <td>36 months</td>\n",
       "      <td>13.49</td>\n",
       "      <td>339.31</td>\n",
       "      <td>C</td>\n",
       "      <td>...</td>\n",
       "      <td>NaN</td>\n",
       "      <td>NaN</td>\n",
       "      <td>NaN</td>\n",
       "      <td>NaN</td>\n",
       "      <td>NaN</td>\n",
       "      <td>NaN</td>\n",
       "      <td>NaN</td>\n",
       "      <td>NaN</td>\n",
       "      <td>NaN</td>\n",
       "      <td>NaN</td>\n",
       "    </tr>\n",
       "    <tr>\n",
       "      <th>4</th>\n",
       "      <td>4</td>\n",
       "      <td>1075358</td>\n",
       "      <td>1311748</td>\n",
       "      <td>3000</td>\n",
       "      <td>3000</td>\n",
       "      <td>3000.0</td>\n",
       "      <td>60 months</td>\n",
       "      <td>12.69</td>\n",
       "      <td>67.79</td>\n",
       "      <td>B</td>\n",
       "      <td>...</td>\n",
       "      <td>NaN</td>\n",
       "      <td>NaN</td>\n",
       "      <td>NaN</td>\n",
       "      <td>NaN</td>\n",
       "      <td>NaN</td>\n",
       "      <td>NaN</td>\n",
       "      <td>NaN</td>\n",
       "      <td>NaN</td>\n",
       "      <td>NaN</td>\n",
       "      <td>NaN</td>\n",
       "    </tr>\n",
       "  </tbody>\n",
       "</table>\n",
       "<p>5 rows × 75 columns</p>\n",
       "</div>"
      ],
      "text/plain": [
       "   Unnamed: 0       id  member_id  loan_amnt  funded_amnt  funded_amnt_inv  \\\n",
       "0           0  1077501    1296599       5000         5000           4975.0   \n",
       "1           1  1077430    1314167       2500         2500           2500.0   \n",
       "2           2  1077175    1313524       2400         2400           2400.0   \n",
       "3           3  1076863    1277178      10000        10000          10000.0   \n",
       "4           4  1075358    1311748       3000         3000           3000.0   \n",
       "\n",
       "         term  int_rate  installment grade  ... total_bal_il il_util  \\\n",
       "0   36 months     10.65       162.87     B  ...          NaN     NaN   \n",
       "1   60 months     15.27        59.83     C  ...          NaN     NaN   \n",
       "2   36 months     15.96        84.33     C  ...          NaN     NaN   \n",
       "3   36 months     13.49       339.31     C  ...          NaN     NaN   \n",
       "4   60 months     12.69        67.79     B  ...          NaN     NaN   \n",
       "\n",
       "  open_rv_12m open_rv_24m  max_bal_bc all_util total_rev_hi_lim inq_fi  \\\n",
       "0         NaN         NaN         NaN      NaN              NaN    NaN   \n",
       "1         NaN         NaN         NaN      NaN              NaN    NaN   \n",
       "2         NaN         NaN         NaN      NaN              NaN    NaN   \n",
       "3         NaN         NaN         NaN      NaN              NaN    NaN   \n",
       "4         NaN         NaN         NaN      NaN              NaN    NaN   \n",
       "\n",
       "  total_cu_tl inq_last_12m  \n",
       "0         NaN          NaN  \n",
       "1         NaN          NaN  \n",
       "2         NaN          NaN  \n",
       "3         NaN          NaN  \n",
       "4         NaN          NaN  \n",
       "\n",
       "[5 rows x 75 columns]"
      ]
     },
     "execution_count": 4,
     "metadata": {},
     "output_type": "execute_result"
    }
   ],
   "source": [
    "# Display first 5 records\n",
    "df.head()"
   ]
  },
  {
   "cell_type": "code",
   "execution_count": 5,
   "id": "12737622",
   "metadata": {},
   "outputs": [
    {
     "data": {
      "text/plain": [
       "array(['Unnamed: 0', 'id', 'member_id', 'loan_amnt', 'funded_amnt',\n",
       "       'funded_amnt_inv', 'term', 'int_rate', 'installment', 'grade',\n",
       "       'sub_grade', 'emp_title', 'emp_length', 'home_ownership',\n",
       "       'annual_inc', 'verification_status', 'issue_d', 'loan_status',\n",
       "       'pymnt_plan', 'url', 'desc', 'purpose', 'title', 'zip_code',\n",
       "       'addr_state', 'dti', 'delinq_2yrs', 'earliest_cr_line',\n",
       "       'inq_last_6mths', 'mths_since_last_delinq',\n",
       "       'mths_since_last_record', 'open_acc', 'pub_rec', 'revol_bal',\n",
       "       'revol_util', 'total_acc', 'initial_list_status', 'out_prncp',\n",
       "       'out_prncp_inv', 'total_pymnt', 'total_pymnt_inv',\n",
       "       'total_rec_prncp', 'total_rec_int', 'total_rec_late_fee',\n",
       "       'recoveries', 'collection_recovery_fee', 'last_pymnt_d',\n",
       "       'last_pymnt_amnt', 'next_pymnt_d', 'last_credit_pull_d',\n",
       "       'collections_12_mths_ex_med', 'mths_since_last_major_derog',\n",
       "       'policy_code', 'application_type', 'annual_inc_joint', 'dti_joint',\n",
       "       'verification_status_joint', 'acc_now_delinq', 'tot_coll_amt',\n",
       "       'tot_cur_bal', 'open_acc_6m', 'open_il_6m', 'open_il_12m',\n",
       "       'open_il_24m', 'mths_since_rcnt_il', 'total_bal_il', 'il_util',\n",
       "       'open_rv_12m', 'open_rv_24m', 'max_bal_bc', 'all_util',\n",
       "       'total_rev_hi_lim', 'inq_fi', 'total_cu_tl', 'inq_last_12m'],\n",
       "      dtype=object)"
      ]
     },
     "execution_count": 5,
     "metadata": {},
     "output_type": "execute_result"
    }
   ],
   "source": [
    "# Display columns name\n",
    "df.columns.values"
   ]
  },
  {
   "cell_type": "code",
   "execution_count": 6,
   "id": "12b50135",
   "metadata": {},
   "outputs": [],
   "source": [
    "# Drop unnecessary column\n",
    "df = df.drop('Unnamed: 0', axis=1)"
   ]
  },
  {
   "cell_type": "code",
   "execution_count": 7,
   "id": "364c728d",
   "metadata": {},
   "outputs": [
    {
     "name": "stdout",
     "output_type": "stream",
     "text": [
      "<class 'pandas.core.frame.DataFrame'>\n",
      "RangeIndex: 466285 entries, 0 to 466284\n",
      "Data columns (total 74 columns):\n",
      " #   Column                       Non-Null Count   Dtype  \n",
      "---  ------                       --------------   -----  \n",
      " 0   id                           466285 non-null  int64  \n",
      " 1   member_id                    466285 non-null  int64  \n",
      " 2   loan_amnt                    466285 non-null  int64  \n",
      " 3   funded_amnt                  466285 non-null  int64  \n",
      " 4   funded_amnt_inv              466285 non-null  float64\n",
      " 5   term                         466285 non-null  object \n",
      " 6   int_rate                     466285 non-null  float64\n",
      " 7   installment                  466285 non-null  float64\n",
      " 8   grade                        466285 non-null  object \n",
      " 9   sub_grade                    466285 non-null  object \n",
      " 10  emp_title                    438697 non-null  object \n",
      " 11  emp_length                   445277 non-null  object \n",
      " 12  home_ownership               466285 non-null  object \n",
      " 13  annual_inc                   466281 non-null  float64\n",
      " 14  verification_status          466285 non-null  object \n",
      " 15  issue_d                      466285 non-null  object \n",
      " 16  loan_status                  466285 non-null  object \n",
      " 17  pymnt_plan                   466285 non-null  object \n",
      " 18  url                          466285 non-null  object \n",
      " 19  desc                         125983 non-null  object \n",
      " 20  purpose                      466285 non-null  object \n",
      " 21  title                        466265 non-null  object \n",
      " 22  zip_code                     466285 non-null  object \n",
      " 23  addr_state                   466285 non-null  object \n",
      " 24  dti                          466285 non-null  float64\n",
      " 25  delinq_2yrs                  466256 non-null  float64\n",
      " 26  earliest_cr_line             466256 non-null  object \n",
      " 27  inq_last_6mths               466256 non-null  float64\n",
      " 28  mths_since_last_delinq       215934 non-null  float64\n",
      " 29  mths_since_last_record       62638 non-null   float64\n",
      " 30  open_acc                     466256 non-null  float64\n",
      " 31  pub_rec                      466256 non-null  float64\n",
      " 32  revol_bal                    466285 non-null  int64  \n",
      " 33  revol_util                   465945 non-null  float64\n",
      " 34  total_acc                    466256 non-null  float64\n",
      " 35  initial_list_status          466285 non-null  object \n",
      " 36  out_prncp                    466285 non-null  float64\n",
      " 37  out_prncp_inv                466285 non-null  float64\n",
      " 38  total_pymnt                  466285 non-null  float64\n",
      " 39  total_pymnt_inv              466285 non-null  float64\n",
      " 40  total_rec_prncp              466285 non-null  float64\n",
      " 41  total_rec_int                466285 non-null  float64\n",
      " 42  total_rec_late_fee           466285 non-null  float64\n",
      " 43  recoveries                   466285 non-null  float64\n",
      " 44  collection_recovery_fee      466285 non-null  float64\n",
      " 45  last_pymnt_d                 465909 non-null  object \n",
      " 46  last_pymnt_amnt              466285 non-null  float64\n",
      " 47  next_pymnt_d                 239071 non-null  object \n",
      " 48  last_credit_pull_d           466243 non-null  object \n",
      " 49  collections_12_mths_ex_med   466140 non-null  float64\n",
      " 50  mths_since_last_major_derog  98974 non-null   float64\n",
      " 51  policy_code                  466285 non-null  int64  \n",
      " 52  application_type             466285 non-null  object \n",
      " 53  annual_inc_joint             0 non-null       float64\n",
      " 54  dti_joint                    0 non-null       float64\n",
      " 55  verification_status_joint    0 non-null       float64\n",
      " 56  acc_now_delinq               466256 non-null  float64\n",
      " 57  tot_coll_amt                 396009 non-null  float64\n",
      " 58  tot_cur_bal                  396009 non-null  float64\n",
      " 59  open_acc_6m                  0 non-null       float64\n",
      " 60  open_il_6m                   0 non-null       float64\n",
      " 61  open_il_12m                  0 non-null       float64\n",
      " 62  open_il_24m                  0 non-null       float64\n",
      " 63  mths_since_rcnt_il           0 non-null       float64\n",
      " 64  total_bal_il                 0 non-null       float64\n",
      " 65  il_util                      0 non-null       float64\n",
      " 66  open_rv_12m                  0 non-null       float64\n",
      " 67  open_rv_24m                  0 non-null       float64\n",
      " 68  max_bal_bc                   0 non-null       float64\n",
      " 69  all_util                     0 non-null       float64\n",
      " 70  total_rev_hi_lim             396009 non-null  float64\n",
      " 71  inq_fi                       0 non-null       float64\n",
      " 72  total_cu_tl                  0 non-null       float64\n",
      " 73  inq_last_12m                 0 non-null       float64\n",
      "dtypes: float64(46), int64(6), object(22)\n",
      "memory usage: 263.3+ MB\n"
     ]
    }
   ],
   "source": [
    "# Display data type\n",
    "df.info()"
   ]
  },
  {
   "cell_type": "markdown",
   "id": "af868393",
   "metadata": {},
   "source": [
    "# Preprocessing"
   ]
  },
  {
   "cell_type": "markdown",
   "id": "ee9f04e2",
   "metadata": {},
   "source": [
    "## Continous Variables"
   ]
  },
  {
   "cell_type": "code",
   "execution_count": 8,
   "id": "5848d53a",
   "metadata": {},
   "outputs": [
    {
     "data": {
      "text/plain": [
       "array(['10+ years', '< 1 year', '1 year', '3 years', '8 years', '9 years',\n",
       "       '4 years', '5 years', '6 years', '2 years', '7 years', nan],\n",
       "      dtype=object)"
      ]
     },
     "execution_count": 8,
     "metadata": {},
     "output_type": "execute_result"
    }
   ],
   "source": [
    "# Object data type\n",
    "# Display unique values in the 'emp_length' column to understand its current format\n",
    "df['emp_length'].unique()"
   ]
  },
  {
   "cell_type": "code",
   "execution_count": 9,
   "id": "70270305",
   "metadata": {},
   "outputs": [
    {
     "name": "stderr",
     "output_type": "stream",
     "text": [
      "/var/folders/7l/hzhbdmks3snf1lxq26d5wcbh0000gn/T/ipykernel_52116/3796932139.py:3: FutureWarning: The default value of regex will change from True to False in a future version.\n",
      "  df['emp_length_int'] = df['emp_length'].str.replace('\\+ years', '')\n"
     ]
    }
   ],
   "source": [
    "# Convert Object data to numeric\n",
    "# Remove '+ years' from the 'emp_length' values\n",
    "df['emp_length_int'] = df['emp_length'].str.replace('\\+ years', '')"
   ]
  },
  {
   "cell_type": "code",
   "execution_count": 10,
   "id": "1e5e6f81",
   "metadata": {},
   "outputs": [
    {
     "data": {
      "text/plain": [
       "array(['10', '< 1 year', '1 year', '3 years', '8 years', '9 years',\n",
       "       '4 years', '5 years', '6 years', '2 years', '7 years', nan],\n",
       "      dtype=object)"
      ]
     },
     "execution_count": 10,
     "metadata": {},
     "output_type": "execute_result"
    }
   ],
   "source": [
    "# Display unique values after the first replacement to check intermediate results\n",
    "df['emp_length_int'].unique()"
   ]
  },
  {
   "cell_type": "code",
   "execution_count": 11,
   "id": "49ca428b",
   "metadata": {},
   "outputs": [],
   "source": [
    "# Replace '< 1 year' with '0'\n",
    "df['emp_length_int'] = df['emp_length_int'].str.replace('< 1 year', str(0))\n",
    "\n",
    "# Replace 'n/a' with '0'\n",
    "df['emp_length_int'] = df['emp_length_int'].str.replace('n/a', str(0))\n",
    "\n",
    "# Remove ' years' from the values\n",
    "df['emp_length_int'] = df['emp_length_int'].str.replace(' years', '')\n",
    "\n",
    "# Remove ' year' from the values\n",
    "df['emp_length_int'] = df['emp_length_int'].str.replace(' year', '')"
   ]
  },
  {
   "cell_type": "code",
   "execution_count": 12,
   "id": "98054e50",
   "metadata": {},
   "outputs": [
    {
     "data": {
      "text/plain": [
       "str"
      ]
     },
     "execution_count": 12,
     "metadata": {},
     "output_type": "execute_result"
    }
   ],
   "source": [
    "# Check the data type of the second element in the 'emp_length_int' column\n",
    "type(df['emp_length_int'][1])"
   ]
  },
  {
   "cell_type": "code",
   "execution_count": 13,
   "id": "a5935684",
   "metadata": {},
   "outputs": [
    {
     "data": {
      "text/plain": [
       "array(['10', '0', '1', '3', '8', '9', '4', '5', '6', '2', '7', nan],\n",
       "      dtype=object)"
      ]
     },
     "execution_count": 13,
     "metadata": {},
     "output_type": "execute_result"
    }
   ],
   "source": [
    "# Display unique values in the 'emp_length_int' column to verify final format\n",
    "df['emp_length_int'].unique()"
   ]
  },
  {
   "cell_type": "code",
   "execution_count": 14,
   "id": "88e495fd",
   "metadata": {},
   "outputs": [],
   "source": [
    "# Convert the 'emp_length_int' column to numeric type (integers)\n",
    "df['emp_length_int'] = pd.to_numeric(df['emp_length_int'])"
   ]
  },
  {
   "cell_type": "code",
   "execution_count": 15,
   "id": "f5c995e7",
   "metadata": {},
   "outputs": [
    {
     "data": {
      "text/plain": [
       "array([10.,  0.,  1.,  3.,  8.,  9.,  4.,  5.,  6.,  2.,  7., nan])"
      ]
     },
     "execution_count": 15,
     "metadata": {},
     "output_type": "execute_result"
    }
   ],
   "source": [
    "# Display unique values in the 'emp_length_int' column after conversion to numeric\n",
    "df['emp_length_int'].unique()"
   ]
  },
  {
   "cell_type": "code",
   "execution_count": 16,
   "id": "a06c59ae",
   "metadata": {},
   "outputs": [
    {
     "data": {
      "text/plain": [
       "array([' 36 months', ' 60 months'], dtype=object)"
      ]
     },
     "execution_count": 16,
     "metadata": {},
     "output_type": "execute_result"
    }
   ],
   "source": [
    "# Do the same thing for 'term'\n",
    "df['term'].unique()"
   ]
  },
  {
   "cell_type": "code",
   "execution_count": 17,
   "id": "fd0665cd",
   "metadata": {},
   "outputs": [],
   "source": [
    "df['term_int'] = df['term'].str.replace(' months', '')\n",
    "df['term_int'] = df['term_int'].str.replace(' ', '')"
   ]
  },
  {
   "cell_type": "code",
   "execution_count": 18,
   "id": "47d70cf7",
   "metadata": {},
   "outputs": [
    {
     "data": {
      "text/plain": [
       "array(['36', '60'], dtype=object)"
      ]
     },
     "execution_count": 18,
     "metadata": {},
     "output_type": "execute_result"
    }
   ],
   "source": [
    "df['term_int'].unique()"
   ]
  },
  {
   "cell_type": "code",
   "execution_count": 19,
   "id": "04f95efb",
   "metadata": {},
   "outputs": [],
   "source": [
    "df['term_int'] = pd.to_numeric(df['term_int'])"
   ]
  },
  {
   "cell_type": "code",
   "execution_count": 20,
   "id": "ae63c454",
   "metadata": {},
   "outputs": [
    {
     "data": {
      "text/plain": [
       "array([36, 60])"
      ]
     },
     "execution_count": 20,
     "metadata": {},
     "output_type": "execute_result"
    }
   ],
   "source": [
    "df['term_int'].unique()"
   ]
  },
  {
   "cell_type": "code",
   "execution_count": 21,
   "id": "51fade61",
   "metadata": {},
   "outputs": [
    {
     "data": {
      "text/plain": [
       "0         36\n",
       "1         60\n",
       "2         36\n",
       "3         36\n",
       "4         60\n",
       "          ..\n",
       "466280    60\n",
       "466281    60\n",
       "466282    60\n",
       "466283    36\n",
       "466284    36\n",
       "Name: term_int, Length: 466285, dtype: int64"
      ]
     },
     "execution_count": 21,
     "metadata": {},
     "output_type": "execute_result"
    }
   ],
   "source": [
    "df['term_int']"
   ]
  },
  {
   "cell_type": "markdown",
   "id": "51bf48e3",
   "metadata": {},
   "source": [
    "The earliest credit line date refers to the date when a borrower first opened a line of credit, such as a credit card or loan. In credit risk analysis, this date is significant because the longer someone has maintained a credit line without defaults, the better it reflects on their creditworthiness. For instance, if a borrower has an earliest credit line date from many years ago, they may be seen as more reliable due to their longer history of managing credit."
   ]
  },
  {
   "cell_type": "code",
   "execution_count": 22,
   "id": "e01a1432",
   "metadata": {},
   "outputs": [
    {
     "data": {
      "text/plain": [
       "0         Jan-85\n",
       "1         Apr-99\n",
       "2         Nov-01\n",
       "3         Feb-96\n",
       "4         Jan-96\n",
       "           ...  \n",
       "466280    Apr-03\n",
       "466281    Jun-97\n",
       "466282    Dec-01\n",
       "466283    Feb-03\n",
       "466284    Feb-00\n",
       "Name: earliest_cr_line, Length: 466285, dtype: object"
      ]
     },
     "execution_count": 22,
     "metadata": {},
     "output_type": "execute_result"
    }
   ],
   "source": [
    "# Object data type\n",
    "# These are string variables but they are actually supposed to be date variables\n",
    "df['earliest_cr_line']"
   ]
  },
  {
   "cell_type": "code",
   "execution_count": 23,
   "id": "2289ee34",
   "metadata": {},
   "outputs": [],
   "source": [
    "# Convert 'earliest_cr_line' column from string format to datetime format using the pattern '%b-%y' (e.g., 'Jan-85'). \n",
    "df['earliest_cr_line_date'] = pd.to_datetime(df['earliest_cr_line'], format = '%b-%y')"
   ]
  },
  {
   "cell_type": "code",
   "execution_count": 24,
   "id": "75043661",
   "metadata": {},
   "outputs": [
    {
     "data": {
      "text/plain": [
       "pandas._libs.tslibs.timestamps.Timestamp"
      ]
     },
     "execution_count": 24,
     "metadata": {},
     "output_type": "execute_result"
    }
   ],
   "source": [
    "# Check the data type of the second element in the 'earliest_cr_line_date' column\n",
    "type(df['earliest_cr_line_date'][1])"
   ]
  },
  {
   "cell_type": "code",
   "execution_count": 25,
   "id": "cd2cb277",
   "metadata": {},
   "outputs": [
    {
     "data": {
      "text/plain": [
       "0        12022 days\n",
       "1         6819 days\n",
       "2         5874 days\n",
       "3         7974 days\n",
       "4         8005 days\n",
       "            ...    \n",
       "466280    5358 days\n",
       "466281    7488 days\n",
       "466282    5844 days\n",
       "466283    5417 days\n",
       "466284    6513 days\n",
       "Name: earliest_cr_line_date, Length: 466285, dtype: timedelta64[ns]"
      ]
     },
     "execution_count": 25,
     "metadata": {},
     "output_type": "execute_result"
    }
   ],
   "source": [
    "# We should set a reference date to calculate the time that has passed\n",
    "# Subtract 'earliest_cr_line_date' from the reference date to calculate the duration since the earliest credit line\n",
    "pd.to_datetime('2017-12-01') - df['earliest_cr_line_date']"
   ]
  },
  {
   "cell_type": "code",
   "execution_count": 26,
   "id": "2b47303e",
   "metadata": {},
   "outputs": [],
   "source": [
    "# Calculate the number of months since the earliest credit line date\n",
    "df['mths_since_earliest_cr_line'] = round(pd.to_numeric((pd.to_datetime('2017-12-01') - df['earliest_cr_line_date']) / np.timedelta64(1, 'M')))"
   ]
  },
  {
   "cell_type": "code",
   "execution_count": 27,
   "id": "8dec906b",
   "metadata": {},
   "outputs": [
    {
     "data": {
      "text/plain": [
       "count    466256.000000\n",
       "mean        239.482430\n",
       "std          93.974829\n",
       "min        -612.000000\n",
       "25%         183.000000\n",
       "50%         225.000000\n",
       "75%         285.000000\n",
       "max         587.000000\n",
       "Name: mths_since_earliest_cr_line, dtype: float64"
      ]
     },
     "execution_count": 27,
     "metadata": {},
     "output_type": "execute_result"
    }
   ],
   "source": [
    "# Get a summary of statistics for the 'mths_since_earliest_cr_line' column\n",
    "df['mths_since_earliest_cr_line'].describe()\n"
   ]
  },
  {
   "cell_type": "markdown",
   "id": "f8d06040",
   "metadata": {},
   "source": [
    "- Count: the number of entries\n",
    "- Mean: average number of months since the earliest credit line\n",
    "- Standard Deviation: measure of the variability in the number of months\n",
    "- Minimum: -612 months which indicates possible data issues or errors => need further investigation!\n",
    "- 25th Percentile: 25% of the values are below this point\n",
    "- 50th Percentile (Median): 50% of the values are below this point\n",
    "- 75th Percentile: 75% of the values are below this point\n",
    "- Maximum: the largest number of months since the earliest credit line"
   ]
  },
  {
   "cell_type": "code",
   "execution_count": 28,
   "id": "d8819a5b",
   "metadata": {},
   "outputs": [
    {
     "data": {
      "text/html": [
       "<div>\n",
       "<style scoped>\n",
       "    .dataframe tbody tr th:only-of-type {\n",
       "        vertical-align: middle;\n",
       "    }\n",
       "\n",
       "    .dataframe tbody tr th {\n",
       "        vertical-align: top;\n",
       "    }\n",
       "\n",
       "    .dataframe thead th {\n",
       "        text-align: right;\n",
       "    }\n",
       "</style>\n",
       "<table border=\"1\" class=\"dataframe\">\n",
       "  <thead>\n",
       "    <tr style=\"text-align: right;\">\n",
       "      <th></th>\n",
       "      <th>earliest_cr_line</th>\n",
       "      <th>earliest_cr_line_date</th>\n",
       "      <th>mths_since_earliest_cr_line</th>\n",
       "    </tr>\n",
       "  </thead>\n",
       "  <tbody>\n",
       "    <tr>\n",
       "      <th>1580</th>\n",
       "      <td>Sep-62</td>\n",
       "      <td>2062-09-01</td>\n",
       "      <td>-537.0</td>\n",
       "    </tr>\n",
       "    <tr>\n",
       "      <th>1770</th>\n",
       "      <td>Sep-68</td>\n",
       "      <td>2068-09-01</td>\n",
       "      <td>-609.0</td>\n",
       "    </tr>\n",
       "    <tr>\n",
       "      <th>2799</th>\n",
       "      <td>Sep-64</td>\n",
       "      <td>2064-09-01</td>\n",
       "      <td>-561.0</td>\n",
       "    </tr>\n",
       "    <tr>\n",
       "      <th>3282</th>\n",
       "      <td>Sep-67</td>\n",
       "      <td>2067-09-01</td>\n",
       "      <td>-597.0</td>\n",
       "    </tr>\n",
       "    <tr>\n",
       "      <th>3359</th>\n",
       "      <td>Feb-65</td>\n",
       "      <td>2065-02-01</td>\n",
       "      <td>-566.0</td>\n",
       "    </tr>\n",
       "    <tr>\n",
       "      <th>...</th>\n",
       "      <td>...</td>\n",
       "      <td>...</td>\n",
       "      <td>...</td>\n",
       "    </tr>\n",
       "    <tr>\n",
       "      <th>464003</th>\n",
       "      <td>Jan-68</td>\n",
       "      <td>2068-01-01</td>\n",
       "      <td>-601.0</td>\n",
       "    </tr>\n",
       "    <tr>\n",
       "      <th>464260</th>\n",
       "      <td>Jul-66</td>\n",
       "      <td>2066-07-01</td>\n",
       "      <td>-583.0</td>\n",
       "    </tr>\n",
       "    <tr>\n",
       "      <th>465100</th>\n",
       "      <td>Oct-67</td>\n",
       "      <td>2067-10-01</td>\n",
       "      <td>-598.0</td>\n",
       "    </tr>\n",
       "    <tr>\n",
       "      <th>465500</th>\n",
       "      <td>Sep-67</td>\n",
       "      <td>2067-09-01</td>\n",
       "      <td>-597.0</td>\n",
       "    </tr>\n",
       "    <tr>\n",
       "      <th>465655</th>\n",
       "      <td>Jan-56</td>\n",
       "      <td>2056-01-01</td>\n",
       "      <td>-457.0</td>\n",
       "    </tr>\n",
       "  </tbody>\n",
       "</table>\n",
       "<p>1169 rows × 3 columns</p>\n",
       "</div>"
      ],
      "text/plain": [
       "       earliest_cr_line earliest_cr_line_date  mths_since_earliest_cr_line\n",
       "1580             Sep-62            2062-09-01                       -537.0\n",
       "1770             Sep-68            2068-09-01                       -609.0\n",
       "2799             Sep-64            2064-09-01                       -561.0\n",
       "3282             Sep-67            2067-09-01                       -597.0\n",
       "3359             Feb-65            2065-02-01                       -566.0\n",
       "...                 ...                   ...                          ...\n",
       "464003           Jan-68            2068-01-01                       -601.0\n",
       "464260           Jul-66            2066-07-01                       -583.0\n",
       "465100           Oct-67            2067-10-01                       -598.0\n",
       "465500           Sep-67            2067-09-01                       -597.0\n",
       "465655           Jan-56            2056-01-01                       -457.0\n",
       "\n",
       "[1169 rows x 3 columns]"
      ]
     },
     "execution_count": 28,
     "metadata": {},
     "output_type": "execute_result"
    }
   ],
   "source": [
    "# Display rows where 'mths_since_earliest_cr_line' is negative\n",
    "df.loc[df['mths_since_earliest_cr_line'] < 0, ['earliest_cr_line', 'earliest_cr_line_date', 'mths_since_earliest_cr_line']]"
   ]
  },
  {
   "cell_type": "markdown",
   "id": "3c895b76",
   "metadata": {},
   "source": [
    "When I converted the 'earliest_cr_line' column from string format to datetime format, the conversion did not work as expected. For example, 'Sep-62' was converted to 2062-09-01, whereas it should have been 1962-09-01. This issue aroce in the first place because the origin of the built-in time scale starts after 1970."
   ]
  },
  {
   "cell_type": "markdown",
   "id": "4ea6abcf",
   "metadata": {},
   "source": [
    "To resolve this, let's substitute the negative values with the maximum observed difference."
   ]
  },
  {
   "cell_type": "code",
   "execution_count": 30,
   "id": "d0f06c11",
   "metadata": {},
   "outputs": [
    {
     "name": "stderr",
     "output_type": "stream",
     "text": [
      "/var/folders/7l/hzhbdmks3snf1lxq26d5wcbh0000gn/T/ipykernel_52116/342213293.py:2: SettingWithCopyWarning: \n",
      "A value is trying to be set on a copy of a slice from a DataFrame\n",
      "\n",
      "See the caveats in the documentation: https://pandas.pydata.org/pandas-docs/stable/user_guide/indexing.html#returning-a-view-versus-a-copy\n",
      "  df['mths_since_earliest_cr_line'][df['mths_since_earliest_cr_line'] < 0] = df['mths_since_earliest_cr_line'].max()\n"
     ]
    }
   ],
   "source": [
    "# Replace negative values in 'mths_since_earliest_cr_line' with the maximum value of the column\n",
    "df['mths_since_earliest_cr_line'][df['mths_since_earliest_cr_line'] < 0] = df['mths_since_earliest_cr_line'].max()"
   ]
  },
  {
   "cell_type": "code",
   "execution_count": 31,
   "id": "822de391",
   "metadata": {},
   "outputs": [
    {
     "data": {
      "text/plain": [
       "73.0"
      ]
     },
     "execution_count": 31,
     "metadata": {},
     "output_type": "execute_result"
    }
   ],
   "source": [
    "# Check if there are any remaining negative values in the 'mths_since_earliest_cr_line' column after imputation\n",
    "min(df['mths_since_earliest_cr_line'])"
   ]
  },
  {
   "cell_type": "code",
   "execution_count": null,
   "id": "5b1191c4",
   "metadata": {},
   "outputs": [],
   "source": [
    "# Do the same thing for issue_d"
   ]
  },
  {
   "cell_type": "code",
   "execution_count": 33,
   "id": "49bccc20",
   "metadata": {},
   "outputs": [
    {
     "data": {
      "text/plain": [
       "0         Dec-11\n",
       "1         Dec-11\n",
       "2         Dec-11\n",
       "3         Dec-11\n",
       "4         Dec-11\n",
       "           ...  \n",
       "466280    Jan-14\n",
       "466281    Jan-14\n",
       "466282    Jan-14\n",
       "466283    Jan-14\n",
       "466284    Jan-14\n",
       "Name: issue_d, Length: 466285, dtype: object"
      ]
     },
     "execution_count": 33,
     "metadata": {},
     "output_type": "execute_result"
    }
   ],
   "source": [
    "# Object data type\n",
    "df['issue_d']"
   ]
  },
  {
   "cell_type": "code",
   "execution_count": 34,
   "id": "c05ed047",
   "metadata": {},
   "outputs": [],
   "source": [
    "# Convert 'issue_d' column from string format to datetime format using the pattern '%b-%y' (e.g., 'Jan-85'). \n",
    "df['issue_d_date'] = pd.to_datetime(df['issue_d'], format = '%b-%y')"
   ]
  },
  {
   "cell_type": "code",
   "execution_count": 35,
   "id": "4e52c491",
   "metadata": {},
   "outputs": [
    {
     "data": {
      "text/plain": [
       "pandas._libs.tslibs.timestamps.Timestamp"
      ]
     },
     "execution_count": 35,
     "metadata": {},
     "output_type": "execute_result"
    }
   ],
   "source": [
    "# Check the data type\n",
    "type(df['issue_d_date'][1])"
   ]
  },
  {
   "cell_type": "code",
   "execution_count": 36,
   "id": "808c5d90",
   "metadata": {},
   "outputs": [],
   "source": [
    "# Assume we are now in December 2017\n",
    "# Calculate the number of months since the issue date\n",
    "df['mths_since_issue_d'] = round(pd.to_numeric((pd.to_datetime('2017-12-01') - df['issue_d_date']) / np.timedelta64(1, 'M')))"
   ]
  },
  {
   "cell_type": "code",
   "execution_count": 37,
   "id": "0263d3ce",
   "metadata": {},
   "outputs": [
    {
     "data": {
      "text/plain": [
       "count    466285.000000\n",
       "mean         51.255187\n",
       "std          14.340154\n",
       "min          36.000000\n",
       "25%          41.000000\n",
       "50%          47.000000\n",
       "75%          57.000000\n",
       "max         126.000000\n",
       "Name: mths_since_issue_d, dtype: float64"
      ]
     },
     "execution_count": 37,
     "metadata": {},
     "output_type": "execute_result"
    }
   ],
   "source": [
    "# Shows some descriptive statisics for the values of a column\n",
    "df['mths_since_issue_d'].describe()"
   ]
  },
  {
   "cell_type": "markdown",
   "id": "56d8670f",
   "metadata": {},
   "source": [
    "## Discrete Variables"
   ]
  },
  {
   "cell_type": "code",
   "execution_count": 38,
   "id": "32d25c49",
   "metadata": {},
   "outputs": [
    {
     "data": {
      "text/plain": [
       "array(['B', 'C', 'A', 'E', 'F', 'D', 'G'], dtype=object)"
      ]
     },
     "execution_count": 38,
     "metadata": {},
     "output_type": "execute_result"
    }
   ],
   "source": [
    "# View unique values in the 'grade' column\n",
    "df['grade'].unique()"
   ]
  },
  {
   "cell_type": "code",
   "execution_count": 39,
   "id": "9be74573",
   "metadata": {},
   "outputs": [
    {
     "data": {
      "text/html": [
       "<div>\n",
       "<style scoped>\n",
       "    .dataframe tbody tr th:only-of-type {\n",
       "        vertical-align: middle;\n",
       "    }\n",
       "\n",
       "    .dataframe tbody tr th {\n",
       "        vertical-align: top;\n",
       "    }\n",
       "\n",
       "    .dataframe thead th {\n",
       "        text-align: right;\n",
       "    }\n",
       "</style>\n",
       "<table border=\"1\" class=\"dataframe\">\n",
       "  <thead>\n",
       "    <tr style=\"text-align: right;\">\n",
       "      <th></th>\n",
       "      <th>A</th>\n",
       "      <th>B</th>\n",
       "      <th>C</th>\n",
       "      <th>D</th>\n",
       "      <th>E</th>\n",
       "      <th>F</th>\n",
       "      <th>G</th>\n",
       "    </tr>\n",
       "  </thead>\n",
       "  <tbody>\n",
       "    <tr>\n",
       "      <th>0</th>\n",
       "      <td>0</td>\n",
       "      <td>1</td>\n",
       "      <td>0</td>\n",
       "      <td>0</td>\n",
       "      <td>0</td>\n",
       "      <td>0</td>\n",
       "      <td>0</td>\n",
       "    </tr>\n",
       "    <tr>\n",
       "      <th>1</th>\n",
       "      <td>0</td>\n",
       "      <td>0</td>\n",
       "      <td>1</td>\n",
       "      <td>0</td>\n",
       "      <td>0</td>\n",
       "      <td>0</td>\n",
       "      <td>0</td>\n",
       "    </tr>\n",
       "    <tr>\n",
       "      <th>2</th>\n",
       "      <td>0</td>\n",
       "      <td>0</td>\n",
       "      <td>1</td>\n",
       "      <td>0</td>\n",
       "      <td>0</td>\n",
       "      <td>0</td>\n",
       "      <td>0</td>\n",
       "    </tr>\n",
       "    <tr>\n",
       "      <th>3</th>\n",
       "      <td>0</td>\n",
       "      <td>0</td>\n",
       "      <td>1</td>\n",
       "      <td>0</td>\n",
       "      <td>0</td>\n",
       "      <td>0</td>\n",
       "      <td>0</td>\n",
       "    </tr>\n",
       "    <tr>\n",
       "      <th>4</th>\n",
       "      <td>0</td>\n",
       "      <td>1</td>\n",
       "      <td>0</td>\n",
       "      <td>0</td>\n",
       "      <td>0</td>\n",
       "      <td>0</td>\n",
       "      <td>0</td>\n",
       "    </tr>\n",
       "    <tr>\n",
       "      <th>...</th>\n",
       "      <td>...</td>\n",
       "      <td>...</td>\n",
       "      <td>...</td>\n",
       "      <td>...</td>\n",
       "      <td>...</td>\n",
       "      <td>...</td>\n",
       "      <td>...</td>\n",
       "    </tr>\n",
       "    <tr>\n",
       "      <th>466280</th>\n",
       "      <td>0</td>\n",
       "      <td>0</td>\n",
       "      <td>1</td>\n",
       "      <td>0</td>\n",
       "      <td>0</td>\n",
       "      <td>0</td>\n",
       "      <td>0</td>\n",
       "    </tr>\n",
       "    <tr>\n",
       "      <th>466281</th>\n",
       "      <td>0</td>\n",
       "      <td>0</td>\n",
       "      <td>0</td>\n",
       "      <td>1</td>\n",
       "      <td>0</td>\n",
       "      <td>0</td>\n",
       "      <td>0</td>\n",
       "    </tr>\n",
       "    <tr>\n",
       "      <th>466282</th>\n",
       "      <td>0</td>\n",
       "      <td>0</td>\n",
       "      <td>0</td>\n",
       "      <td>1</td>\n",
       "      <td>0</td>\n",
       "      <td>0</td>\n",
       "      <td>0</td>\n",
       "    </tr>\n",
       "    <tr>\n",
       "      <th>466283</th>\n",
       "      <td>1</td>\n",
       "      <td>0</td>\n",
       "      <td>0</td>\n",
       "      <td>0</td>\n",
       "      <td>0</td>\n",
       "      <td>0</td>\n",
       "      <td>0</td>\n",
       "    </tr>\n",
       "    <tr>\n",
       "      <th>466284</th>\n",
       "      <td>0</td>\n",
       "      <td>0</td>\n",
       "      <td>0</td>\n",
       "      <td>1</td>\n",
       "      <td>0</td>\n",
       "      <td>0</td>\n",
       "      <td>0</td>\n",
       "    </tr>\n",
       "  </tbody>\n",
       "</table>\n",
       "<p>466285 rows × 7 columns</p>\n",
       "</div>"
      ],
      "text/plain": [
       "        A  B  C  D  E  F  G\n",
       "0       0  1  0  0  0  0  0\n",
       "1       0  0  1  0  0  0  0\n",
       "2       0  0  1  0  0  0  0\n",
       "3       0  0  1  0  0  0  0\n",
       "4       0  1  0  0  0  0  0\n",
       "...    .. .. .. .. .. .. ..\n",
       "466280  0  0  1  0  0  0  0\n",
       "466281  0  0  0  1  0  0  0\n",
       "466282  0  0  0  1  0  0  0\n",
       "466283  1  0  0  0  0  0  0\n",
       "466284  0  0  0  1  0  0  0\n",
       "\n",
       "[466285 rows x 7 columns]"
      ]
     },
     "execution_count": 39,
     "metadata": {},
     "output_type": "execute_result"
    }
   ],
   "source": [
    "# Apply one-hot encoding to the 'grade' column\n",
    "pd.get_dummies(df['grade'])"
   ]
  },
  {
   "cell_type": "code",
   "execution_count": 41,
   "id": "168fd6d2",
   "metadata": {},
   "outputs": [
    {
     "data": {
      "text/plain": [
       "Index(['term', 'grade', 'sub_grade', 'emp_title', 'emp_length',\n",
       "       'home_ownership', 'verification_status', 'issue_d', 'loan_status',\n",
       "       'pymnt_plan', 'url', 'desc', 'purpose', 'title', 'zip_code',\n",
       "       'addr_state', 'earliest_cr_line', 'initial_list_status', 'last_pymnt_d',\n",
       "       'next_pymnt_d', 'last_credit_pull_d', 'application_type'],\n",
       "      dtype='object')"
      ]
     },
     "execution_count": 41,
     "metadata": {},
     "output_type": "execute_result"
    }
   ],
   "source": [
    "# Select columns with categorical data types ('object' or 'category')\n",
    "df.select_dtypes(include=['object', 'category']).columns"
   ]
  },
  {
   "cell_type": "code",
   "execution_count": 43,
   "id": "f8926efc",
   "metadata": {},
   "outputs": [
    {
     "name": "stdout",
     "output_type": "stream",
     "text": [
      "term: [' 36 months' ' 60 months']\n",
      "grade: ['B' 'C' 'A' 'E' 'F' 'D' 'G']\n",
      "sub_grade: ['B2' 'C4' 'C5' 'C1' 'B5' 'A4' 'E1' 'F2' 'C3' 'B1' 'D1' 'A1' 'B3' 'B4'\n",
      " 'C2' 'D2' 'A3' 'A5' 'D5' 'A2' 'E4' 'D3' 'D4' 'F3' 'E3' 'F4' 'F1' 'E5'\n",
      " 'G4' 'E2' 'G3' 'G2' 'G1' 'F5' 'G5']\n",
      "emp_title: [nan 'Ryder' 'AIR RESOURCES BOARD' ... 'MecÃ¡nica'\n",
      " 'Chief of Interpretation (Park Ranger)' 'Server Engineer Lead']\n",
      "emp_length: ['10+ years' '< 1 year' '1 year' '3 years' '8 years' '9 years' '4 years'\n",
      " '5 years' '6 years' '2 years' '7 years' nan]\n",
      "home_ownership: ['RENT' 'OWN' 'MORTGAGE' 'OTHER' 'NONE' 'ANY']\n",
      "verification_status: ['Verified' 'Source Verified' 'Not Verified']\n",
      "issue_d: ['Dec-11' 'Nov-11' 'Oct-11' 'Sep-11' 'Aug-11' 'Jul-11' 'Jun-11' 'May-11'\n",
      " 'Apr-11' 'Mar-11' 'Feb-11' 'Jan-11' 'Dec-10' 'Nov-10' 'Oct-10' 'Sep-10'\n",
      " 'Aug-10' 'Jul-10' 'Jun-10' 'May-10' 'Apr-10' 'Mar-10' 'Feb-10' 'Jan-10'\n",
      " 'Dec-09' 'Nov-09' 'Oct-09' 'Sep-09' 'Aug-09' 'Jul-09' 'Jun-09' 'May-09'\n",
      " 'Apr-09' 'Mar-09' 'Feb-09' 'Jan-09' 'Dec-08' 'Nov-08' 'Oct-08' 'Sep-08'\n",
      " 'Aug-08' 'Jul-08' 'Jun-08' 'May-08' 'Apr-08' 'Mar-08' 'Feb-08' 'Jan-08'\n",
      " 'Dec-07' 'Nov-07' 'Oct-07' 'Sep-07' 'Aug-07' 'Jul-07' 'Jun-07' 'Dec-13'\n",
      " 'Nov-13' 'Oct-13' 'Sep-13' 'Aug-13' 'Jul-13' 'Jun-13' 'May-13' 'Apr-13'\n",
      " 'Mar-13' 'Feb-13' 'Jan-13' 'Dec-12' 'Nov-12' 'Oct-12' 'Sep-12' 'Aug-12'\n",
      " 'Jul-12' 'Jun-12' 'May-12' 'Apr-12' 'Mar-12' 'Feb-12' 'Jan-12' 'Dec-14'\n",
      " 'Nov-14' 'Oct-14' 'Sep-14' 'Aug-14' 'Jul-14' 'Jun-14' 'May-14' 'Apr-14'\n",
      " 'Mar-14' 'Feb-14' 'Jan-14']\n",
      "loan_status: ['Fully Paid' 'Charged Off' 'Current' 'Default' 'Late (31-120 days)'\n",
      " 'In Grace Period' 'Late (16-30 days)'\n",
      " 'Does not meet the credit policy. Status:Fully Paid'\n",
      " 'Does not meet the credit policy. Status:Charged Off']\n",
      "pymnt_plan: ['n' 'y']\n",
      "url: ['https://www.lendingclub.com/browse/loanDetail.action?loan_id=1077501'\n",
      " 'https://www.lendingclub.com/browse/loanDetail.action?loan_id=1077430'\n",
      " 'https://www.lendingclub.com/browse/loanDetail.action?loan_id=1077175'\n",
      " ...\n",
      " 'https://www.lendingclub.com/browse/loanDetail.action?loan_id=9584776'\n",
      " 'https://www.lendingclub.com/browse/loanDetail.action?loan_id=9604874'\n",
      " 'https://www.lendingclub.com/browse/loanDetail.action?loan_id=9199665']\n",
      "desc: ['  Borrower added on 12/22/11 > I need to upgrade my business technologies.<br>'\n",
      " '  Borrower added on 12/22/11 > I plan to use this money to finance the motorcycle i am looking at. I plan to have it paid off as soon as possible/when i sell my old bike. I only need this money because the deal im looking at is to good to pass up.<br><br>  Borrower added on 12/22/11 > I plan to use this money to finance the motorcycle i am looking at. I plan to have it paid off as soon as possible/when i sell my old bike.I only need this money because the deal im looking at is to good to pass up. I have finished college with an associates degree in business and its takingmeplaces<br>'\n",
      " nan ...\n",
      " '  Borrower added on 12/09/13 > consolidate all credit accounts<br>'\n",
      " '  Borrower added on 12/06/13 > I am going to consolidate a credit card debt from medical and moving expenses with a loan I already have. I have paid everything on time for years, I just need to eliminate this high interest credit card.<br>'\n",
      " '  Borrower added on 12/04/13 > I will like a loan to fix  our cars and paid our house property tax<br>']\n",
      "purpose: ['credit_card' 'car' 'small_business' 'other' 'wedding'\n",
      " 'debt_consolidation' 'home_improvement' 'major_purchase' 'medical'\n",
      " 'moving' 'vacation' 'house' 'renewable_energy' 'educational']\n",
      "title: ['Computer' 'bike' 'real estate business' ... 'LoanGetter'\n",
      " 'Consolidation 01' 'Paying off the car and some bills']\n",
      "zip_code: ['860xx' '309xx' '606xx' '917xx' '972xx' '852xx' '280xx' '900xx' '958xx'\n",
      " '774xx' '853xx' '913xx' '245xx' '951xx' '641xx' '921xx' '067xx' '890xx'\n",
      " '770xx' '335xx' '799xx' '605xx' '103xx' '150xx' '326xx' '564xx' '141xx'\n",
      " '080xx' '330xx' '974xx' '934xx' '405xx' '946xx' '445xx' '850xx' '604xx'\n",
      " '292xx' '088xx' '180xx' '029xx' '700xx' '010xx' '441xx' '104xx' '061xx'\n",
      " '616xx' '947xx' '914xx' '765xx' '980xx' '017xx' '752xx' '787xx' '077xx'\n",
      " '540xx' '225xx' '440xx' '437xx' '559xx' '912xx' '325xx' '300xx' '923xx'\n",
      " '352xx' '013xx' '146xx' '074xx' '786xx' '937xx' '331xx' '115xx' '191xx'\n",
      " '114xx' '908xx' '902xx' '992xx' '750xx' '950xx' '329xx' '226xx' '614xx'\n",
      " '802xx' '672xx' '083xx' '100xx' '926xx' '931xx' '712xx' '060xx' '707xx'\n",
      " '342xx' '895xx' '430xx' '919xx' '996xx' '891xx' '935xx' '801xx' '928xx'\n",
      " '233xx' '927xx' '970xx' '211xx' '303xx' '070xx' '194xx' '263xx' '403xx'\n",
      " '301xx' '553xx' '993xx' '312xx' '432xx' '602xx' '216xx' '151xx' '971xx'\n",
      " '305xx' '334xx' '050xx' '129xx' '925xx' '483xx' '760xx' '961xx' '200xx'\n",
      " '085xx' '981xx' '601xx' '117xx' '063xx' '920xx' '543xx' '775xx' '570xx'\n",
      " '038xx' '221xx' '985xx' '113xx' '275xx' '236xx' '148xx' '028xx' '450xx'\n",
      " '532xx' '729xx' '321xx' '959xx' '941xx' '955xx' '217xx' '880xx' '660xx'\n",
      " '062xx' '193xx' '761xx' '857xx' '306xx' '271xx' '142xx' '956xx' '983xx'\n",
      " '945xx' '109xx' '112xx' '187xx' '630xx' '435xx' '488xx' '287xx' '705xx'\n",
      " '592xx' '318xx' '549xx' '212xx' '347xx' '274xx' '265xx' '785xx' '027xx'\n",
      " '089xx' '813xx' '069xx' '260xx' '201xx' '349xx' '322xx' '075xx' '124xx'\n",
      " '940xx' '967xx' '111xx' '773xx' '997xx' '076xx' '538xx' '021xx' '304xx'\n",
      " '234xx' '308xx' '809xx' '071xx' '363xx' '296xx' '240xx' '830xx' '011xx'\n",
      " '622xx' '207xx' '140xx' '336xx' '619xx' '208xx' '618xx' '014xx' '644xx'\n",
      " '283xx' '276xx' '631xx' '243xx' '960xx' '181xx' '922xx' '224xx' '975xx'\n",
      " '105xx' '986xx' '218xx' '652xx' '782xx' '410xx' '480xx' '328xx' '719xx'\n",
      " '982xx' '065xx' '081xx' '954xx' '346xx' '442xx' '025xx' '122xx' '173xx'\n",
      " '282xx' '120xx' '082xx' '766xx' '229xx' '840xx' '744xx' '933xx' '451xx'\n",
      " '907xx' '728xx' '159xx' '333xx' '293xx' '701xx' '984xx' '811xx' '597xx'\n",
      " '957xx' '165xx' '720xx' '119xx' '359xx' '195xx' '084xx' '969xx' '924xx'\n",
      " '531xx' '716xx' '337xx' '841xx' '323xx' '740xx' '179xx' '805xx' '285xx'\n",
      " '551xx' '658xx' '944xx' '232xx' '905xx' '600xx' '327xx' '711xx' '906xx'\n",
      " '444xx' '856xx' '064xx' '777xx' '072xx' '554xx' '145xx' '537xx' '152xx'\n",
      " '847xx' '295xx' '829xx' '320xx' '131xx' '939xx' '572xx' '281xx' '550xx'\n",
      " '078xx' '452xx' '778xx' '313xx' '851xx' '784xx' '804xx' '571xx' '210xx'\n",
      " '988xx' '400xx' '995xx' '023xx' '158xx' '657xx' '016xx' '019xx' '290xx'\n",
      " '190xx' '366xx' '066xx' '991xx' '968xx' '721xx' '439xx' '640xx' '546xx'\n",
      " '024xx' '751xx' '431xx' '741xx' '904xx' '156xx' '316xx' '299xx' '087xx'\n",
      " '739xx' '949xx' '261xx' '073xx' '222xx' '244xx' '617xx' '018xx' '286xx'\n",
      " '759xx' '952xx' '930xx' '911xx' '220xx' '731xx' '730xx' '262xx' '338xx'\n",
      " '160xx' '031xx' '054xx' '223xx' '272xx' '882xx' '557xx' '797xx' '725xx'\n",
      " '130xx' '030xx' '206xx' '324xx' '170xx' '291xx' '161xx' '647xx' '916xx'\n",
      " '665xx' '209xx' '915xx' '110xx' '086xx' '484xx' '844xx' '020xx' '354xx'\n",
      " '448xx' '978xx' '757xx' '953xx' '577xx' '315xx' '664xx' '186xx' '182xx'\n",
      " '574xx' '800xx' '197xx' '137xx' '314xx' '755xx' '973xx' '603xx' '481xx'\n",
      " '780xx' '894xx' '341xx' '361xx' '178xx' '068xx' '565xx' '611xx' '288xx'\n",
      " '443xx' '662xx' '874xx' '560xx' '535xx' '499xx' '162xx' '756xx' '168xx'\n",
      " '827xx' '541xx' '615xx' '989xx' '037xx' '863xx' '339xx' '367xx' '273xx'\n",
      " '052xx' '623xx' '416xx' '648xx' '918xx' '436xx' '898xx' '674xx' '496xx'\n",
      " '294xx' '762xx' '128xx' '903xx' '932xx' '650xx' '246xx' '633xx' '666xx'\n",
      " '228xx' '015xx' '302xx' '573xx' '118xx' '998xx' '767xx' '490xx' '350xx'\n",
      " '591xx' '254xx' '566xx' '596xx' '637xx' '032xx' '763xx' '871xx' '494xx'\n",
      " '402xx' '545xx' '184xx' '458xx' '239xx' '977xx' '297xx' '284xx' '144xx'\n",
      " '748xx' '310xx' '147xx' '153xx' '544xx' '948xx' '576xx' '976xx' '107xx'\n",
      " '846xx' '344xx' '351xx' '754xx' '910xx' '656xx' '357xx' '791xx' '493xx'\n",
      " '855xx' '278xx' '125xx' '175xx' '530xx' '171xx' '703xx' '620xx' '438xx'\n",
      " '626xx' '307xx' '636xx' '319xx' '116xx' '645xx' '708xx' '816xx' '625xx'\n",
      " '133xx' '612xx' '238xx' '166xx' '231xx' '241xx' '826xx' '783xx' '793xx'\n",
      " '646xx' '188xx' '108xx' '653xx' '057xx' '796xx' '990xx' '219xx' '724xx'\n",
      " '456xx' '214xx' '237xx' '737xx' '121xx' '199xx' '548xx' '453xx' '704xx'\n",
      " '368xx' '828xx' '598xx' '136xx' '610xx' '433xx' '722xx' '743xx' '810xx'\n",
      " '706xx' '235xx' '139xx' '613xx' '454xx' '317xx' '746xx' '446xx' '486xx'\n",
      " '033xx' '279xx' '407xx' '803xx' '794xx' '457xx' '189xx' '196xx' '539xx'\n",
      " '424xx' '492xx' '482xx' '667xx' '845xx' '608xx' '401xx' '362xx' '627xx'\n",
      " '717xx' '356xx' '607xx' '963xx' '198xx' '936xx' '713xx' '227xx' '883xx'\n",
      " '563xx' '893xx' '079xx' '806xx' '360xx' '172xx' '422xx' '768xx' '034xx'\n",
      " '735xx' '870xx' '012xx' '594xx' '215xx' '628xx' '749xx' '101xx' '814xx'\n",
      " '255xx' '745xx' '495xx' '132xx' '183xx' '864xx' '106xx' '663xx' '943xx'\n",
      " '094xx' '177xx' '365xx' '897xx' '776xx' '843xx' '421xx' '253xx' '795xx'\n",
      " '727xx' '528xx' '270xx' '808xx' '277xx' '447xx' '358xx' '815xx' '250xx'\n",
      " '230xx' '790xx' '884xx' '242xx' '534xx' '404xx' '397xx' '434xx' '671xx'\n",
      " '655xx' '675xx' '053xx' '859xx' '126xx' '102xx' '256xx' '673xx' '489xx'\n",
      " '258xx' '423xx' '497xx' '788xx' '127xx' '176xx' '380xx' '058xx' '635xx'\n",
      " '498xx' '820xx' '599xx' '822xx' '638xx' '723xx' '449xx' '420xx' '157xx'\n",
      " '726xx' '185xx' '527xx' '298xx' '769xx' '257xx' '881xx' '575xx' '624xx'\n",
      " '134xx' '877xx' '781xx' '718xx' '670xx' '138xx' '026xx' '678xx' '398xx'\n",
      " '411xx' '149xx' '247xx' '875xx' '838xx' '651xx' '364xx' '203xx' '427xx'\n",
      " '629xx' '355xx' '174xx' '547xx' '567xx' '558xx' '135xx' '035xx' '999xx'\n",
      " '634xx' '455xx' '143xx' '154xx' '562xx' '779xx' '561xx' '734xx' '789xx'\n",
      " '812xx' '268xx' '051xx' '865xx' '406xx' '661xx' '758xx' '676xx' '491xx'\n",
      " '267xx' '609xx' '595xx' '259xx' '163xx' '264xx' '409xx' '376xx' '471xx'\n",
      " '375xx' '747xx' '123xx' '714xx' '590xx' '639xx' '412xx' '425xx' '022xx'\n",
      " '369xx' '164xx' '825xx' '266xx' '096xx' '487xx' '251xx' '593xx' '169xx'\n",
      " '413xx' '155xx' '764xx' '710xx' '408xx' '668xx' '056xx' '669xx' '167xx'\n",
      " '542xx' '679xx' '462xx' '792xx' '824xx' '249xx' '798xx' '370xx' '485xx'\n",
      " '654xx' '289xx' '807xx' '252xx' '556xx' '353xx' '677xx' '090xx' '371xx'\n",
      " '831xx' '736xx' '007xx' '332xx' '468xx' '461xx' '093xx' '248xx' '463xx'\n",
      " '391xx' '381xx' '415xx' '378xx' '414xx' '396xx' '836xx' '044xx' '392xx'\n",
      " '772xx' '374xx' '823xx' '395xx' '394xx' '965xx' '390xx' '388xx' '386xx'\n",
      " '040xx' '385xx' '379xx' '681xx' '837xx' '373xx' '753xx' '834xx' '383xx'\n",
      " '384xx' '372xx' '833xx' '522xx' '523xx' '474xx' '465xx' '689xx' '473xx'\n",
      " '041xx' '685xx' '479xx' '469xx' '738xx' '418xx' '204xx' '059xx' '878xx'\n",
      " '460xx' '426xx' '514xx' '500xx' '503xx' '832xx' '691xx' '470xx' '036xx'\n",
      " '467xx' '476xx' '478xx' '466xx' '377xx' '475xx' '477xx' '472xx' '994xx'\n",
      " '873xx' '464xx' '979xx' '569xx' '382xx' '680xx' '879xx' '049xx' '962xx'\n",
      " '502xx' '942xx' '621xx' '417xx' '091xx' '643xx' '821xx' '340xx' '513xx'\n",
      " '387xx' '393xx' '389xx' '429xx' '311xx' '682xx' '854xx' '582xx' '929xx'\n",
      " '938xx' '008xx' '861xx' '888xx' '098xx' '524xx' '889xx' '092xx' '510xx'\n",
      " '909xx' '516xx' '043xx' '587xx' '511xx' '901xx']\n",
      "addr_state: ['AZ' 'GA' 'IL' 'CA' 'OR' 'NC' 'TX' 'VA' 'MO' 'CT' 'UT' 'FL' 'NY' 'PA'\n",
      " 'MN' 'NJ' 'KY' 'OH' 'SC' 'RI' 'LA' 'MA' 'WA' 'WI' 'AL' 'CO' 'KS' 'NV'\n",
      " 'AK' 'MD' 'WV' 'VT' 'MI' 'DC' 'SD' 'NH' 'AR' 'NM' 'MT' 'HI' 'WY' 'OK'\n",
      " 'DE' 'MS' 'TN' 'IA' 'NE' 'ID' 'IN' 'ME']\n",
      "earliest_cr_line: ['Jan-85' 'Apr-99' 'Nov-01' 'Feb-96' 'Jan-96' 'Nov-04' 'Jul-05' 'Jan-07'\n",
      " 'Apr-04' 'Sep-04' 'Jan-98' 'Oct-89' 'Jul-03' 'May-91' 'Sep-07' 'Oct-98'\n",
      " 'Aug-93' 'Oct-03' 'Jan-01' 'Nov-97' 'Feb-83' 'Jul-85' 'Apr-03' 'Jun-01'\n",
      " 'Feb-02' 'Aug-84' 'Nov-06' 'Dec-87' 'Nov-81' 'Feb-97' 'Apr-05' 'Oct-07'\n",
      " 'Dec-00' 'Apr-07' 'Dec-01' 'Jan-03' 'Mar-94' 'Sep-98' 'Jun-04' 'Nov-95'\n",
      " 'Jul-99' 'Jun-95' 'Sep-92' 'Jan-02' 'Apr-92' 'Oct-06' 'May-00' 'Dec-98'\n",
      " 'Dec-04' 'Oct-00' 'May-02' 'May-06' 'Jul-02' 'Jul-06' 'May-97' 'Oct-05'\n",
      " 'Apr-95' 'Oct-02' 'Jan-00' 'Apr-00' 'Dec-94' 'Sep-05' 'Dec-84' 'Dec-99'\n",
      " 'Nov-03' 'Jun-89' 'Jun-03' 'Oct-96' 'May-03' 'Jun-02' 'Jun-07' 'Dec-96'\n",
      " 'Feb-84' 'Sep-02' 'Jan-86' 'May-98' 'Jan-97' 'Jun-05' 'Feb-90' 'Mar-04'\n",
      " 'Jul-95' 'Aug-94' 'Jun-92' 'Mar-97' 'Apr-06' 'Apr-90' 'Aug-99' 'Sep-00'\n",
      " 'Feb-01' 'Dec-88' 'Feb-99' 'Dec-91' 'Aug-00' 'Oct-04' 'Aug-04' 'Feb-05'\n",
      " 'Nov-05' 'Nov-00' 'May-07' 'Jan-91' 'Jun-00' 'Aug-06' 'Dec-02' 'Jun-93'\n",
      " 'Jun-06' 'Feb-04' 'Dec-90' 'Mar-00' 'Feb-95' 'Jul-01' 'Apr-02' 'Sep-06'\n",
      " 'May-99' 'Aug-98' 'Dec-05' 'May-04' 'Oct-01' 'Jun-83' 'Mar-86' 'Apr-80'\n",
      " 'Jul-04' 'Jul-08' 'May-96' 'Jan-04' 'Nov-02' 'Aug-02' 'Aug-01' 'Mar-91'\n",
      " 'Sep-89' 'Sep-94' 'Sep-03' 'Sep-99' 'Aug-05' 'Dec-86' 'Nov-98' 'Feb-06'\n",
      " 'May-94' 'Nov-07' 'Feb-93' 'Nov-91' 'May-05' 'Dec-73' 'May-01' 'Mar-90'\n",
      " 'Mar-96' 'Oct-79' 'Jun-81' 'Mar-01' 'Apr-01' 'Jun-99' 'Nov-93' 'Jan-06'\n",
      " 'Dec-97' 'Nov-94' 'Jul-97' 'Oct-91' 'Jun-94' 'Mar-06' 'Sep-96' 'Apr-91'\n",
      " 'Jul-93' 'Jan-95' 'Sep-87' 'Mar-03' 'Oct-99' 'Jul-96' 'Dec-03' 'Aug-88'\n",
      " 'Jan-92' 'Mar-98' 'Feb-07' 'Aug-82' 'Mar-95' 'Dec-92' 'Jul-98' 'Jul-89'\n",
      " 'May-90' 'Jul-94' 'Sep-01' 'Mar-84' 'Aug-03' 'Nov-99' 'Mar-07' 'Mar-08'\n",
      " 'Apr-94' 'Jan-05' 'Jul-86' 'Aug-90' 'May-92' 'Jul-00' 'Mar-88' 'May-83'\n",
      " 'Apr-93' 'Jul-78' 'Feb-00' 'Dec-81' 'Mar-92' 'Jan-81' 'Sep-90' 'Jun-98'\n",
      " 'May-93' 'Nov-96' 'Mar-02' 'Jan-88' 'Aug-97' 'Aug-87' 'Aug-08' 'Oct-94'\n",
      " 'Oct-86' 'Feb-94' 'Jun-96' 'Feb-98' 'Nov-08' 'Apr-98' 'Jul-79' 'Jan-93'\n",
      " 'May-87' 'Jul-71' 'Aug-07' 'Jun-97' 'Mar-80' 'Dec-06' 'Jul-07' 'Oct-95'\n",
      " 'Jul-91' 'Jul-92' 'Dec-72' 'Dec-93' 'Jan-99' 'Feb-03' 'Apr-97' 'Dec-95'\n",
      " 'Apr-96' 'Jul-90' 'Mar-70' 'Nov-84' 'Apr-84' 'Jul-84' 'Aug-95' 'Mar-99'\n",
      " 'Sep-88' 'Mar-89' 'Mar-87' 'Oct-97' 'Dec-80' 'Jan-94' 'Sep-95' 'Mar-05'\n",
      " 'Jan-89' 'Feb-92' 'Jan-90' 'Nov-90' 'Mar-69' 'Jun-75' 'Mar-85' 'Dec-07'\n",
      " 'Oct-93' 'Dec-89' 'Sep-80' 'Jun-88' 'May-78' 'Apr-73' 'Aug-89' 'Oct-90'\n",
      " 'Sep-91' 'Feb-82' 'Feb-87' 'Nov-85' 'Jan-84' 'Jul-88' 'May-08' 'Oct-85'\n",
      " 'Mar-83' 'Aug-91' 'Sep-86' 'Jun-90' 'Feb-86' 'Sep-97' 'Jun-84' 'Sep-81'\n",
      " 'Apr-86' 'Aug-79' 'Aug-80' 'Nov-92' 'Sep-93' 'Jun-87' 'Sep-82' 'Aug-92'\n",
      " 'Aug-85' 'Jul-83' 'Jun-91' 'Dec-83' 'Jan-87' 'Nov-78' 'Oct-84' 'Aug-96'\n",
      " 'Nov-89' 'Sep-76' 'Nov-86' 'Oct-87' 'Sep-08' 'May-77' 'May-86' 'Mar-81'\n",
      " 'Jan-83' 'Nov-76' 'Sep-79' 'Oct-83' 'Sep-62' 'Jun-85' 'May-82' 'Feb-88'\n",
      " 'Oct-92' 'Aug-83' 'Jun-73' 'Apr-85' 'Oct-88' 'Oct-81' 'Sep-68' 'Jul-74'\n",
      " 'Nov-87' 'May-95' 'Feb-91' 'Nov-88' 'Mar-93' 'Jun-08' 'Jul-80' 'Dec-82'\n",
      " 'Mar-75' 'Feb-80' 'Apr-88' 'Dec-79' 'Sep-85' 'Sep-71' 'Mar-78' 'Feb-08'\n",
      " 'Aug-78' 'Nov-70' 'Jun-79' 'Jun-80' 'Apr-89' 'Sep-83' 'Feb-89' 'Nov-83'\n",
      " 'Jun-86' 'Oct-82' 'Aug-86' 'Oct-80' 'May-88' 'Dec-85' 'Jan-82' 'Sep-77'\n",
      " 'Dec-76' 'Apr-82' 'May-84' 'Apr-08' 'Feb-79' 'Jan-08' 'Sep-64' 'Jul-87'\n",
      " 'Jan-78' 'May-89' 'Oct-77' 'Dec-75' 'Feb-85' 'Oct-08' 'Nov-82' 'May-75'\n",
      " 'May-85' 'Feb-71' 'Jun-77' 'Apr-81' 'May-79' 'Jan-72' 'Sep-67' 'Apr-78'\n",
      " 'Feb-65' 'Apr-83' 'Nov-75' 'Jun-67' 'Mar-74' 'Jul-72' 'Aug-67' 'Apr-71'\n",
      " 'Sep-84' 'May-81' 'Dec-70' 'Oct-73' 'Jan-71' 'Dec-63' 'Apr-74' 'Jan-80'\n",
      " 'Aug-69' 'Apr-75' 'Jul-77' 'Mar-77' 'Nov-69' 'Jan-76' 'Mar-82' 'Apr-87'\n",
      " 'Dec-69' 'May-74' 'Aug-74' 'Jun-72' 'Mar-63' 'Nov-79' 'Aug-75' 'Sep-74'\n",
      " 'Aug-81' 'May-73' 'Sep-73' 'Mar-73' 'Dec-77' 'Oct-76' 'Jan-74' 'Jan-70'\n",
      " 'Aug-68' 'Feb-76' 'Jan-75' 'Oct-72' 'Dec-74' 'Feb-73' 'Nov-65' 'Mar-72'\n",
      " 'Jun-82' 'Jun-74' 'May-65' 'Jun-71' 'Oct-70' 'Apr-76' 'Oct-71' 'Apr-77'\n",
      " 'Sep-78' 'Oct-78' 'Oct-54' 'Feb-81' 'Jan-77' 'Aug-77' 'Dec-78' 'Aug-76'\n",
      " 'Jun-68' 'Jun-78' 'Jun-69' 'May-80' 'Jan-79' 'Oct-65' 'Nov-74' 'Apr-66'\n",
      " 'Jun-76' 'Feb-72' 'May-76' 'Mar-68' 'Mar-76' 'Jul-70' 'Mar-79' 'Jul-76'\n",
      " 'Jul-82' 'Sep-65' 'Apr-67' 'Oct-63' 'Feb-70' 'Jul-73' 'Feb-78' 'Nov-71'\n",
      " 'Aug-72' 'Jul-75' 'Sep-70' 'Jul-81' 'Oct-64' 'Sep-72' 'May-70' 'May-63'\n",
      " 'Feb-69' 'Nov-80' 'Jul-67' 'Apr-70' 'Nov-77' 'Nov-66' 'May-71' 'Apr-79'\n",
      " 'May-72' 'Feb-68' 'Jul-64' 'Nov-67' 'Apr-64' 'Feb-75' 'Jun-59' 'Sep-56'\n",
      " 'Jun-66' 'Jan-46' 'Mar-66' 'Jan-63' 'Dec-50' 'Jul-69' 'Jan-68' 'Nov-73'\n",
      " 'Jun-70' 'Feb-77' 'Feb-74' 'Jan-73' 'Feb-66' 'Dec-61' 'Aug-73' 'Aug-70'\n",
      " 'Sep-69' 'Sep-75' 'Dec-68' 'Nov-54' 'Oct-69' 'Dec-65' 'Apr-72' 'Nov-72'\n",
      " 'Sep-63' 'Apr-69' 'Nov-62' 'Oct-67' 'May-67' 'Nov-61' 'Feb-67' 'Nov-68'\n",
      " 'Oct-75' 'Mar-71' 'Aug-71' 'Dec-66' 'Oct-68' 'Oct-74' 'Nov-63' 'Apr-68'\n",
      " 'May-69' 'Nov-59' nan 'Oct-10' 'Dec-09' 'Nov-10' 'Jan-10' 'Dec-08'\n",
      " 'Sep-09' 'Jul-10' 'Jan-09' 'May-09' 'May-10' 'Sep-10' 'Apr-09' 'Nov-09'\n",
      " 'Apr-10' 'Mar-09' 'Feb-09' 'Aug-09' 'Oct-09' 'Jun-09' 'Jun-10' 'Jul-09'\n",
      " 'Feb-10' 'Mar-10' 'Aug-10' 'Jan-61' 'Oct-62' 'Jun-64' 'Apr-62' 'Jan-60'\n",
      " 'Sep-66' 'Mar-65' 'May-68' 'Jul-66' 'Dec-56' 'Dec-71' 'Apr-65' 'Jan-64'\n",
      " 'Jul-65' 'Jan-65' 'Jan-62' 'Aug-64' 'Jan-69' 'Oct-66' 'Jun-62' 'Dec-67'\n",
      " 'Oct-60' 'Jul-62' 'Dec-60' 'Jul-60' 'Jun-65' 'May-66' 'Oct-57' 'Aug-65'\n",
      " 'May-60' 'Jan-67' 'Nov-53' 'Oct-59' 'Jun-63' 'Mar-67' 'Jul-63' 'Nov-60'\n",
      " 'Mar-62' 'Mar-64' 'Jul-68' 'Feb-63' 'Jan-66' 'Dec-64' 'May-64' 'Oct-61'\n",
      " 'Aug-60' 'Mar-60' 'Apr-55' 'Sep-59' 'Aug-66' 'Jul-55' 'Aug-61' 'Nov-64'\n",
      " 'May-53' 'Nov-50' 'Nov-55' 'Mar-61' 'Feb-57' 'Aug-63' 'Feb-60' 'Sep-60'\n",
      " 'Feb-64' 'Dec-51' 'Nov-58' 'Aug-62' 'Oct-58' 'May-62' 'Mar-11' 'Jun-11'\n",
      " 'Dec-10' 'Oct-11' 'Sep-11' 'Jul-11' 'Apr-11' 'May-11' 'Jan-11' 'Feb-11'\n",
      " 'Aug-11' 'Apr-63' 'Nov-11' 'Dec-58' 'Jan-58' 'Jul-59' 'Jan-55' 'May-59'\n",
      " 'Aug-46' 'Apr-61' 'Jun-58' 'Jul-58' 'Jun-60' 'Jan-51' 'Dec-62' 'Mar-59'\n",
      " 'Aug-58' 'Jan-59' 'Feb-61' 'Sep-57' 'Jun-49' 'Jun-61' 'Jan-56' 'Jan-54'\n",
      " 'Jan-57' 'Jan-44' 'Oct-50' 'Jan-48' 'Jul-61' 'May-58' 'Jan-53' 'May-50'\n",
      " 'Nov-56']\n",
      "initial_list_status: ['f' 'w']\n",
      "last_pymnt_d: ['Jan-15' 'Apr-13' 'Jun-14' 'Jan-16' 'Apr-12' 'Nov-12' 'Jun-13' 'Sep-13'\n",
      " 'Jul-12' 'Oct-13' 'May-13' 'Feb-15' 'Aug-15' 'Oct-12' 'Sep-12' nan\n",
      " 'Dec-12' 'Dec-14' 'Aug-13' 'Nov-13' 'Jan-14' 'Apr-14' 'Aug-14' 'Oct-14'\n",
      " 'Aug-12' 'Jul-14' 'Jul-13' 'Apr-15' 'Feb-14' 'Sep-14' 'Jun-12' 'Feb-13'\n",
      " 'Mar-13' 'May-14' 'Mar-15' 'Jan-13' 'Dec-13' 'Feb-12' 'Mar-14' 'Sep-15'\n",
      " 'Nov-15' 'Dec-15' 'Jan-12' 'Oct-15' 'Nov-14' 'Mar-12' 'May-12' 'Jun-15'\n",
      " 'May-15' 'Jul-15' 'Dec-11' 'Nov-11' 'Oct-11' 'Sep-11' 'Aug-11' 'Jul-11'\n",
      " 'Jun-11' 'May-11' 'Apr-11' 'Mar-11' 'Feb-11' 'Jan-11' 'Dec-10' 'Nov-10'\n",
      " 'Oct-10' 'Sep-10' 'Aug-10' 'Jul-10' 'Jun-10' 'May-10' 'Apr-10' 'Mar-10'\n",
      " 'Feb-10' 'Jan-10' 'Dec-09' 'Nov-09' 'Oct-09' 'Sep-09' 'Aug-09' 'Jul-09'\n",
      " 'Jun-09' 'May-09' 'Apr-09' 'Mar-09' 'Feb-09' 'Jan-09' 'Dec-08' 'Oct-08'\n",
      " 'Aug-08' 'Jul-08' 'Sep-08' 'Jun-08' 'May-08' 'Nov-08' 'Apr-08' 'Mar-08'\n",
      " 'Feb-08' 'Jan-08' 'Dec-07']\n",
      "next_pymnt_d: [nan 'Feb-16' 'Jan-16' 'Sep-13' 'Feb-14' 'May-14' 'Jun-13' 'Mar-12'\n",
      " 'Apr-12' 'May-13' 'Aug-12' 'Aug-13' 'Jun-12' 'Nov-13' 'Feb-12' 'Oct-11'\n",
      " 'Jan-13' 'Jan-14' 'Jul-13' 'Jul-15' 'Jan-12' 'Dec-12' 'Jun-11' 'Feb-13'\n",
      " 'Nov-11' 'Nov-12' 'Dec-11' 'Aug-11' 'Sep-11' 'Apr-11' 'Mar-14' 'Apr-13'\n",
      " 'Mar-11' 'Jul-12' 'Aug-14' 'Oct-13' 'Sep-12' 'May-12' 'Apr-15' 'Jul-11'\n",
      " 'Dec-15' 'Dec-13' 'Jan-11' 'Oct-12' 'Nov-14' 'Mar-13' 'Aug-15' 'Feb-15'\n",
      " 'May-15' 'Jul-14' 'Nov-15' 'Sep-14' 'Oct-15' 'May-11' 'Feb-11' 'Dec-14'\n",
      " 'Jun-15' 'Apr-14' 'Jan-15' 'Sep-15' 'Jun-14' 'Nov-10' 'Oct-10' 'Dec-10'\n",
      " 'Mar-15' 'Oct-14' 'Jul-10' 'Sep-10' 'May-10' 'Aug-10' 'Mar-10' 'Jun-10'\n",
      " 'Apr-10' 'Feb-10' 'Dec-09' 'Nov-09' 'Oct-09' 'Jan-10' 'Sep-09' 'Jun-09'\n",
      " 'Aug-09' 'Jul-09' 'May-09' 'Apr-09' 'Jan-09' 'Oct-08' 'Feb-09' 'Nov-08'\n",
      " 'Sep-08' 'Mar-09' 'Dec-08' 'Aug-08' 'Jun-08' 'Jul-08' 'Apr-08' 'May-08'\n",
      " 'Feb-08' 'Jan-08' 'Mar-08' 'Dec-07' 'Mar-16']\n",
      "last_credit_pull_d: ['Jan-16' 'Sep-13' 'Jan-15' 'Sep-15' 'Dec-14' 'Aug-12' 'Mar-13' 'Dec-15'\n",
      " 'Aug-13' 'Nov-12' 'Mar-14' 'Apr-15' 'May-14' 'Jul-15' 'Jul-12' 'Sep-12'\n",
      " 'May-13' 'Oct-15' 'Jun-12' 'Mar-15' 'Dec-12' 'Jul-14' 'Sep-14' 'Feb-14'\n",
      " 'Jun-15' 'Oct-13' 'Apr-14' 'Oct-14' 'Feb-13' 'Nov-15' 'Oct-12' 'Nov-13'\n",
      " 'Nov-14' 'Feb-12' 'Apr-12' 'Aug-15' 'Jun-14' 'Jan-12' 'Aug-14' 'Jun-13'\n",
      " 'Dec-13' 'May-12' 'Jan-14' 'Jul-13' 'Apr-13' 'May-15' 'Feb-15' 'Mar-12'\n",
      " 'Nov-11' 'Dec-11' 'Jan-13' 'Oct-11' 'Sep-11' 'Aug-11' 'Jul-11' 'Jun-11'\n",
      " 'May-11' 'Apr-11' 'Mar-11' 'Feb-11' 'Jan-11' 'Dec-10' 'Nov-10' 'Oct-10'\n",
      " nan 'Sep-10' 'Aug-10' 'Jul-10' 'Jun-10' 'May-10' 'Apr-10' 'Feb-10'\n",
      " 'Mar-10' 'Aug-07' 'Jan-10' 'Dec-09' 'Nov-09' 'Oct-09' 'Sep-09' 'Jul-09'\n",
      " 'Aug-09' 'Jun-09' 'May-09' 'Apr-09' 'Mar-09' 'Feb-09' 'Jan-09' 'Dec-08'\n",
      " 'Jun-08' 'Sep-08' 'May-08' 'Aug-08' 'Mar-08' 'Oct-08' 'Feb-08' 'Jan-08'\n",
      " 'Dec-07' 'Jul-08' 'Oct-07' 'Sep-07' 'Jun-07' 'May-07' 'Jul-07' 'Nov-07']\n"
     ]
    },
    {
     "name": "stdout",
     "output_type": "stream",
     "text": [
      "application_type: ['INDIVIDUAL']\n"
     ]
    }
   ],
   "source": [
    "# Display unique values for each column to identify categorical variables\n",
    "for col in df.select_dtypes(include=['object', 'category']).columns:\n",
    "    unique_vals = df[col].unique()\n",
    "    print(f\"{col}: {unique_vals}\")"
   ]
  },
  {
   "cell_type": "code",
   "execution_count": 44,
   "id": "4ea39526",
   "metadata": {},
   "outputs": [],
   "source": [
    "# Create one-hot encoded DataFrames for several categorical variables\n",
    "df_dummies = [pd.get_dummies(df['grade'], prefix='grade', prefix_sep=':'),\n",
    "              pd.get_dummies(df['sub_grade'], prefix='sub_grade', prefix_sep=':'),\n",
    "              pd.get_dummies(df['home_ownership'], prefix='home_ownership', prefix_sep=':'),\n",
    "              pd.get_dummies(df['verification_status'], prefix='verification_status', prefix_sep=':'),\n",
    "              pd.get_dummies(df['loan_status'], prefix='loan_status', prefix_sep=':'),\n",
    "              pd.get_dummies(df['purpose'], prefix='purpose', prefix_sep=':'),\n",
    "              pd.get_dummies(df['addr_state'], prefix='addr_state', prefix_sep=':'),\n",
    "              pd.get_dummies(df['initial_list_status'], prefix='initial_list_status', prefix_sep=':')\n",
    "             ]"
   ]
  },
  {
   "cell_type": "code",
   "execution_count": 45,
   "id": "ca0a4199",
   "metadata": {},
   "outputs": [],
   "source": [
    "# Combine all the one-hot encoded DataFrames into a single DataFrame\n",
    "df_dummies = pd.concat(df_dummies, axis = 1)"
   ]
  },
  {
   "cell_type": "code",
   "execution_count": 46,
   "id": "8d39af6f",
   "metadata": {},
   "outputs": [
    {
     "data": {
      "text/plain": [
       "pandas.core.frame.DataFrame"
      ]
     },
     "execution_count": 46,
     "metadata": {},
     "output_type": "execute_result"
    }
   ],
   "source": [
    "# Check the type of the df_dummies variable\n",
    "type(df_dummies)"
   ]
  },
  {
   "cell_type": "code",
   "execution_count": 48,
   "id": "834c26f3",
   "metadata": {},
   "outputs": [],
   "source": [
    "# Combine the original DataFrame with the one-hot encoded DataFrame\n",
    "df = pd.concat([df, df_dummies], axis = 1)"
   ]
  },
  {
   "cell_type": "code",
   "execution_count": 50,
   "id": "c2f6396b",
   "metadata": {},
   "outputs": [
    {
     "data": {
      "text/plain": [
       "array(['id', 'member_id', 'loan_amnt', 'funded_amnt', 'funded_amnt_inv',\n",
       "       'term', 'int_rate', 'installment', 'grade', 'sub_grade',\n",
       "       'emp_title', 'emp_length', 'home_ownership', 'annual_inc',\n",
       "       'verification_status', 'issue_d', 'loan_status', 'pymnt_plan',\n",
       "       'url', 'desc', 'purpose', 'title', 'zip_code', 'addr_state', 'dti',\n",
       "       'delinq_2yrs', 'earliest_cr_line', 'inq_last_6mths',\n",
       "       'mths_since_last_delinq', 'mths_since_last_record', 'open_acc',\n",
       "       'pub_rec', 'revol_bal', 'revol_util', 'total_acc',\n",
       "       'initial_list_status', 'out_prncp', 'out_prncp_inv', 'total_pymnt',\n",
       "       'total_pymnt_inv', 'total_rec_prncp', 'total_rec_int',\n",
       "       'total_rec_late_fee', 'recoveries', 'collection_recovery_fee',\n",
       "       'last_pymnt_d', 'last_pymnt_amnt', 'next_pymnt_d',\n",
       "       'last_credit_pull_d', 'collections_12_mths_ex_med',\n",
       "       'mths_since_last_major_derog', 'policy_code', 'application_type',\n",
       "       'annual_inc_joint', 'dti_joint', 'verification_status_joint',\n",
       "       'acc_now_delinq', 'tot_coll_amt', 'tot_cur_bal', 'open_acc_6m',\n",
       "       'open_il_6m', 'open_il_12m', 'open_il_24m', 'mths_since_rcnt_il',\n",
       "       'total_bal_il', 'il_util', 'open_rv_12m', 'open_rv_24m',\n",
       "       'max_bal_bc', 'all_util', 'total_rev_hi_lim', 'inq_fi',\n",
       "       'total_cu_tl', 'inq_last_12m', 'emp_length_int', 'term_int',\n",
       "       'earliest_cr_line_date', 'mths_since_earliest_cr_line',\n",
       "       'issue_d_date', 'mths_since_issue_d', 'grade:A', 'grade:B',\n",
       "       'grade:C', 'grade:D', 'grade:E', 'grade:F', 'grade:G',\n",
       "       'sub_grade:A1', 'sub_grade:A2', 'sub_grade:A3', 'sub_grade:A4',\n",
       "       'sub_grade:A5', 'sub_grade:B1', 'sub_grade:B2', 'sub_grade:B3',\n",
       "       'sub_grade:B4', 'sub_grade:B5', 'sub_grade:C1', 'sub_grade:C2',\n",
       "       'sub_grade:C3', 'sub_grade:C4', 'sub_grade:C5', 'sub_grade:D1',\n",
       "       'sub_grade:D2', 'sub_grade:D3', 'sub_grade:D4', 'sub_grade:D5',\n",
       "       'sub_grade:E1', 'sub_grade:E2', 'sub_grade:E3', 'sub_grade:E4',\n",
       "       'sub_grade:E5', 'sub_grade:F1', 'sub_grade:F2', 'sub_grade:F3',\n",
       "       'sub_grade:F4', 'sub_grade:F5', 'sub_grade:G1', 'sub_grade:G2',\n",
       "       'sub_grade:G3', 'sub_grade:G4', 'sub_grade:G5',\n",
       "       'home_ownership:ANY', 'home_ownership:MORTGAGE',\n",
       "       'home_ownership:NONE', 'home_ownership:OTHER',\n",
       "       'home_ownership:OWN', 'home_ownership:RENT',\n",
       "       'verification_status:Not Verified',\n",
       "       'verification_status:Source Verified',\n",
       "       'verification_status:Verified', 'loan_status:Charged Off',\n",
       "       'loan_status:Current', 'loan_status:Default',\n",
       "       'loan_status:Does not meet the credit policy. Status:Charged Off',\n",
       "       'loan_status:Does not meet the credit policy. Status:Fully Paid',\n",
       "       'loan_status:Fully Paid', 'loan_status:In Grace Period',\n",
       "       'loan_status:Late (16-30 days)', 'loan_status:Late (31-120 days)',\n",
       "       'purpose:car', 'purpose:credit_card', 'purpose:debt_consolidation',\n",
       "       'purpose:educational', 'purpose:home_improvement', 'purpose:house',\n",
       "       'purpose:major_purchase', 'purpose:medical', 'purpose:moving',\n",
       "       'purpose:other', 'purpose:renewable_energy',\n",
       "       'purpose:small_business', 'purpose:vacation', 'purpose:wedding',\n",
       "       'addr_state:AK', 'addr_state:AL', 'addr_state:AR', 'addr_state:AZ',\n",
       "       'addr_state:CA', 'addr_state:CO', 'addr_state:CT', 'addr_state:DC',\n",
       "       'addr_state:DE', 'addr_state:FL', 'addr_state:GA', 'addr_state:HI',\n",
       "       'addr_state:IA', 'addr_state:ID', 'addr_state:IL', 'addr_state:IN',\n",
       "       'addr_state:KS', 'addr_state:KY', 'addr_state:LA', 'addr_state:MA',\n",
       "       'addr_state:MD', 'addr_state:ME', 'addr_state:MI', 'addr_state:MN',\n",
       "       'addr_state:MO', 'addr_state:MS', 'addr_state:MT', 'addr_state:NC',\n",
       "       'addr_state:NE', 'addr_state:NH', 'addr_state:NJ', 'addr_state:NM',\n",
       "       'addr_state:NV', 'addr_state:NY', 'addr_state:OH', 'addr_state:OK',\n",
       "       'addr_state:OR', 'addr_state:PA', 'addr_state:RI', 'addr_state:SC',\n",
       "       'addr_state:SD', 'addr_state:TN', 'addr_state:TX', 'addr_state:UT',\n",
       "       'addr_state:VA', 'addr_state:VT', 'addr_state:WA', 'addr_state:WI',\n",
       "       'addr_state:WV', 'addr_state:WY', 'initial_list_status:f',\n",
       "       'initial_list_status:w'], dtype=object)"
      ]
     },
     "execution_count": 50,
     "metadata": {},
     "output_type": "execute_result"
    }
   ],
   "source": [
    "# Get the column names of the DataFrame\n",
    "df.columns.values"
   ]
  },
  {
   "cell_type": "markdown",
   "id": "ffe8428d",
   "metadata": {},
   "source": [
    "## Handling Missing Values"
   ]
  },
  {
   "cell_type": "code",
   "execution_count": 52,
   "id": "6749d309",
   "metadata": {},
   "outputs": [
    {
     "data": {
      "text/plain": [
       "id                                                                      0\n",
       "member_id                                                               0\n",
       "loan_amnt                                                               0\n",
       "funded_amnt                                                             0\n",
       "funded_amnt_inv                                                         0\n",
       "term                                                                    0\n",
       "int_rate                                                                0\n",
       "installment                                                             0\n",
       "grade                                                                   0\n",
       "sub_grade                                                               0\n",
       "emp_title                                                           27588\n",
       "emp_length                                                          21008\n",
       "home_ownership                                                          0\n",
       "annual_inc                                                              4\n",
       "verification_status                                                     0\n",
       "issue_d                                                                 0\n",
       "loan_status                                                             0\n",
       "pymnt_plan                                                              0\n",
       "url                                                                     0\n",
       "desc                                                               340302\n",
       "purpose                                                                 0\n",
       "title                                                                  20\n",
       "zip_code                                                                0\n",
       "addr_state                                                              0\n",
       "dti                                                                     0\n",
       "delinq_2yrs                                                            29\n",
       "earliest_cr_line                                                       29\n",
       "inq_last_6mths                                                         29\n",
       "mths_since_last_delinq                                             250351\n",
       "mths_since_last_record                                             403647\n",
       "open_acc                                                               29\n",
       "pub_rec                                                                29\n",
       "revol_bal                                                               0\n",
       "revol_util                                                            340\n",
       "total_acc                                                              29\n",
       "initial_list_status                                                     0\n",
       "out_prncp                                                               0\n",
       "out_prncp_inv                                                           0\n",
       "total_pymnt                                                             0\n",
       "total_pymnt_inv                                                         0\n",
       "total_rec_prncp                                                         0\n",
       "total_rec_int                                                           0\n",
       "total_rec_late_fee                                                      0\n",
       "recoveries                                                              0\n",
       "collection_recovery_fee                                                 0\n",
       "last_pymnt_d                                                          376\n",
       "last_pymnt_amnt                                                         0\n",
       "next_pymnt_d                                                       227214\n",
       "last_credit_pull_d                                                     42\n",
       "collections_12_mths_ex_med                                            145\n",
       "mths_since_last_major_derog                                        367311\n",
       "policy_code                                                             0\n",
       "application_type                                                        0\n",
       "annual_inc_joint                                                   466285\n",
       "dti_joint                                                          466285\n",
       "verification_status_joint                                          466285\n",
       "acc_now_delinq                                                         29\n",
       "tot_coll_amt                                                        70276\n",
       "tot_cur_bal                                                         70276\n",
       "open_acc_6m                                                        466285\n",
       "open_il_6m                                                         466285\n",
       "open_il_12m                                                        466285\n",
       "open_il_24m                                                        466285\n",
       "mths_since_rcnt_il                                                 466285\n",
       "total_bal_il                                                       466285\n",
       "il_util                                                            466285\n",
       "open_rv_12m                                                        466285\n",
       "open_rv_24m                                                        466285\n",
       "max_bal_bc                                                         466285\n",
       "all_util                                                           466285\n",
       "total_rev_hi_lim                                                    70276\n",
       "inq_fi                                                             466285\n",
       "total_cu_tl                                                        466285\n",
       "inq_last_12m                                                       466285\n",
       "emp_length_int                                                      21008\n",
       "term_int                                                                0\n",
       "earliest_cr_line_date                                                  29\n",
       "mths_since_earliest_cr_line                                            29\n",
       "issue_d_date                                                            0\n",
       "mths_since_issue_d                                                      0\n",
       "grade:A                                                                 0\n",
       "grade:B                                                                 0\n",
       "grade:C                                                                 0\n",
       "grade:D                                                                 0\n",
       "grade:E                                                                 0\n",
       "grade:F                                                                 0\n",
       "grade:G                                                                 0\n",
       "sub_grade:A1                                                            0\n",
       "sub_grade:A2                                                            0\n",
       "sub_grade:A3                                                            0\n",
       "sub_grade:A4                                                            0\n",
       "sub_grade:A5                                                            0\n",
       "sub_grade:B1                                                            0\n",
       "sub_grade:B2                                                            0\n",
       "sub_grade:B3                                                            0\n",
       "sub_grade:B4                                                            0\n",
       "sub_grade:B5                                                            0\n",
       "sub_grade:C1                                                            0\n",
       "sub_grade:C2                                                            0\n",
       "sub_grade:C3                                                            0\n",
       "sub_grade:C4                                                            0\n",
       "sub_grade:C5                                                            0\n",
       "sub_grade:D1                                                            0\n",
       "sub_grade:D2                                                            0\n",
       "sub_grade:D3                                                            0\n",
       "sub_grade:D4                                                            0\n",
       "sub_grade:D5                                                            0\n",
       "sub_grade:E1                                                            0\n",
       "sub_grade:E2                                                            0\n",
       "sub_grade:E3                                                            0\n",
       "sub_grade:E4                                                            0\n",
       "sub_grade:E5                                                            0\n",
       "sub_grade:F1                                                            0\n",
       "sub_grade:F2                                                            0\n",
       "sub_grade:F3                                                            0\n",
       "sub_grade:F4                                                            0\n",
       "sub_grade:F5                                                            0\n",
       "sub_grade:G1                                                            0\n",
       "sub_grade:G2                                                            0\n",
       "sub_grade:G3                                                            0\n",
       "sub_grade:G4                                                            0\n",
       "sub_grade:G5                                                            0\n",
       "home_ownership:ANY                                                      0\n",
       "home_ownership:MORTGAGE                                                 0\n",
       "home_ownership:NONE                                                     0\n",
       "home_ownership:OTHER                                                    0\n",
       "home_ownership:OWN                                                      0\n",
       "home_ownership:RENT                                                     0\n",
       "verification_status:Not Verified                                        0\n",
       "verification_status:Source Verified                                     0\n",
       "verification_status:Verified                                            0\n",
       "loan_status:Charged Off                                                 0\n",
       "loan_status:Current                                                     0\n",
       "loan_status:Default                                                     0\n",
       "loan_status:Does not meet the credit policy. Status:Charged Off         0\n",
       "loan_status:Does not meet the credit policy. Status:Fully Paid          0\n",
       "loan_status:Fully Paid                                                  0\n",
       "loan_status:In Grace Period                                             0\n",
       "loan_status:Late (16-30 days)                                           0\n",
       "loan_status:Late (31-120 days)                                          0\n",
       "purpose:car                                                             0\n",
       "purpose:credit_card                                                     0\n",
       "purpose:debt_consolidation                                              0\n",
       "purpose:educational                                                     0\n",
       "purpose:home_improvement                                                0\n",
       "purpose:house                                                           0\n",
       "purpose:major_purchase                                                  0\n",
       "purpose:medical                                                         0\n",
       "purpose:moving                                                          0\n",
       "purpose:other                                                           0\n",
       "purpose:renewable_energy                                                0\n",
       "purpose:small_business                                                  0\n",
       "purpose:vacation                                                        0\n",
       "purpose:wedding                                                         0\n",
       "addr_state:AK                                                           0\n",
       "addr_state:AL                                                           0\n",
       "addr_state:AR                                                           0\n",
       "addr_state:AZ                                                           0\n",
       "addr_state:CA                                                           0\n",
       "addr_state:CO                                                           0\n",
       "addr_state:CT                                                           0\n",
       "addr_state:DC                                                           0\n",
       "addr_state:DE                                                           0\n",
       "addr_state:FL                                                           0\n",
       "addr_state:GA                                                           0\n",
       "addr_state:HI                                                           0\n",
       "addr_state:IA                                                           0\n",
       "addr_state:ID                                                           0\n",
       "addr_state:IL                                                           0\n",
       "addr_state:IN                                                           0\n",
       "addr_state:KS                                                           0\n",
       "addr_state:KY                                                           0\n",
       "addr_state:LA                                                           0\n",
       "addr_state:MA                                                           0\n",
       "addr_state:MD                                                           0\n",
       "addr_state:ME                                                           0\n",
       "addr_state:MI                                                           0\n",
       "addr_state:MN                                                           0\n",
       "addr_state:MO                                                           0\n",
       "addr_state:MS                                                           0\n",
       "addr_state:MT                                                           0\n",
       "addr_state:NC                                                           0\n",
       "addr_state:NE                                                           0\n",
       "addr_state:NH                                                           0\n",
       "addr_state:NJ                                                           0\n",
       "addr_state:NM                                                           0\n",
       "addr_state:NV                                                           0\n",
       "addr_state:NY                                                           0\n",
       "addr_state:OH                                                           0\n",
       "addr_state:OK                                                           0\n",
       "addr_state:OR                                                           0\n",
       "addr_state:PA                                                           0\n",
       "addr_state:RI                                                           0\n",
       "addr_state:SC                                                           0\n",
       "addr_state:SD                                                           0\n",
       "addr_state:TN                                                           0\n",
       "addr_state:TX                                                           0\n",
       "addr_state:UT                                                           0\n",
       "addr_state:VA                                                           0\n",
       "addr_state:VT                                                           0\n",
       "addr_state:WA                                                           0\n",
       "addr_state:WI                                                           0\n",
       "addr_state:WV                                                           0\n",
       "addr_state:WY                                                           0\n",
       "initial_list_status:f                                                   0\n",
       "initial_list_status:w                                                   0\n",
       "dtype: int64"
      ]
     },
     "execution_count": 52,
     "metadata": {},
     "output_type": "execute_result"
    }
   ],
   "source": [
    "# Set the option to display all rows in the DataFrame output\n",
    "pd.options.display.max_rows = None\n",
    "\n",
    "# Display the count of missing values for each column\n",
    "df.isnull().sum()"
   ]
  },
  {
   "cell_type": "code",
   "execution_count": 53,
   "id": "4353d0ca",
   "metadata": {},
   "outputs": [],
   "source": [
    "# Set the option to display up to 100 rows in the DataFrame output\n",
    "pd.options.display.max_rows = 100"
   ]
  },
  {
   "cell_type": "code",
   "execution_count": 54,
   "id": "f7a77d60",
   "metadata": {},
   "outputs": [],
   "source": [
    "# Fill missing values in the 'total_rev_hi_lim' column with the corresponding values from the 'funded_amnt' column\n",
    "df['total_rev_hi_lim'].fillna(df['funded_amnt'], inplace=True)"
   ]
  },
  {
   "cell_type": "code",
   "execution_count": 55,
   "id": "d2e6ef27",
   "metadata": {},
   "outputs": [
    {
     "data": {
      "text/plain": [
       "0"
      ]
     },
     "execution_count": 55,
     "metadata": {},
     "output_type": "execute_result"
    }
   ],
   "source": [
    "# Check the number of missing values in the 'total_rev_hi_lim' column\n",
    "df['total_rev_hi_lim'].isnull().sum()"
   ]
  },
  {
   "cell_type": "code",
   "execution_count": 59,
   "id": "83d24c3c",
   "metadata": {},
   "outputs": [],
   "source": [
    "# Replace the missing values with the mean of the non-missing values of the variable\n",
    "# Fill missing values in the 'total_rev_hi_lim' column with the corresponding values from the 'funded_amnt' column\n",
    "df['annual_inc'].fillna(df['annual_inc'].mean(), inplace=True)"
   ]
  },
  {
   "cell_type": "code",
   "execution_count": 60,
   "id": "b0b8b7f4",
   "metadata": {},
   "outputs": [
    {
     "data": {
      "text/plain": [
       "0"
      ]
     },
     "execution_count": 60,
     "metadata": {},
     "output_type": "execute_result"
    }
   ],
   "source": [
    "# Check the number of missing values\n",
    "df['annual_inc'].isnull().sum()"
   ]
  },
  {
   "cell_type": "code",
   "execution_count": 62,
   "id": "4fc23664",
   "metadata": {},
   "outputs": [],
   "source": [
    "# List of columns to replace missing values with zeros\n",
    "columns_to_replace = ['mths_since_earliest_cr_line', \n",
    "                      'acc_now_delinq', \n",
    "                      'total_acc', \n",
    "                      'pub_rec', \n",
    "                      'open_acc', \n",
    "                      'inq_last_6mths', \n",
    "                      'delinq_2yrs', \n",
    "                      'emp_length_int']"
   ]
  },
  {
   "cell_type": "code",
   "execution_count": 63,
   "id": "c2b481bc",
   "metadata": {},
   "outputs": [],
   "source": [
    "# Replace missing values with zeros for the specified columns\n",
    "df[columns_to_replace] = df[columns_to_replace].fillna(0)"
   ]
  },
  {
   "cell_type": "code",
   "execution_count": 64,
   "id": "e85a52b1",
   "metadata": {},
   "outputs": [
    {
     "data": {
      "text/plain": [
       "mths_since_earliest_cr_line    0\n",
       "acc_now_delinq                 0\n",
       "total_acc                      0\n",
       "pub_rec                        0\n",
       "open_acc                       0\n",
       "inq_last_6mths                 0\n",
       "delinq_2yrs                    0\n",
       "emp_length_int                 0\n",
       "dtype: int64"
      ]
     },
     "execution_count": 64,
     "metadata": {},
     "output_type": "execute_result"
    }
   ],
   "source": [
    "# Check the number of missing values\n",
    "df[columns_to_replace].isnull().sum()"
   ]
  },
  {
   "cell_type": "code",
   "execution_count": null,
   "id": "7b90c3db",
   "metadata": {},
   "outputs": [],
   "source": []
  }
 ],
 "metadata": {
  "kernelspec": {
   "display_name": "Python 3 (ipykernel)",
   "language": "python",
   "name": "python3"
  },
  "language_info": {
   "codemirror_mode": {
    "name": "ipython",
    "version": 3
   },
   "file_extension": ".py",
   "mimetype": "text/x-python",
   "name": "python",
   "nbconvert_exporter": "python",
   "pygments_lexer": "ipython3",
   "version": "3.9.7"
  }
 },
 "nbformat": 4,
 "nbformat_minor": 5
}
